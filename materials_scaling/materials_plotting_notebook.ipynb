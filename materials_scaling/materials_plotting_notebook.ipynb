{
 "metadata": {
  "name": "materials_plotting_notebook",
  "signature": "sha256:20fb87bde2b6bb03299c2c4205da4b8cb8d8af91e598c9b3c8e9487577cdf2ac"
 },
 "nbformat": 3,
 "nbformat_minor": 0,
 "worksheets": [
  {
   "cells": [
    {
     "cell_type": "code",
     "collapsed": false,
     "input": [
      "import sys\n",
      "import matplotlib\n",
      "import matplotlib.pyplot as plt\n",
      "import numpy as np\n",
      "import pandas as pd\n",
      "\n",
      "sys.path.append('../lib/')\n",
      "from batch_classes import ParsedBatch"
     ],
     "language": "python",
     "metadata": {},
     "outputs": [],
     "prompt_number": 1
    },
    {
     "cell_type": "code",
     "collapsed": false,
     "input": [
      "# Parse batch from directory\n",
      "tesla_NEG = ParsedBatch('tesla_NEG',\n",
      "            cg_entries=[\n",
      "                {'primary': '__cross_section_MOD_calculate_xs'},\n",
      "                {'primary': '__cross_section_MOD_calculate_nuclide_xs'},\n",
      "                {'primary': '__cross_section_MOD_calculate_nuclide_xs',\n",
      "                    'child' : '__search_MOD_binary_search_real'}\n",
      "                ],\n",
      "        output_pattern =\n",
      "        r'Number of nuclides:\\s+(?P<nuclides>[0-9\\.E\\-\\+]+)|'+\n",
      "        r'Calculation Rate \\(active\\)\\s+=\\s+(?P<rate_active>[0-9\\.E\\-\\+]+)\\s+neutrons/second')"
     ],
     "language": "python",
     "metadata": {},
     "outputs": [
      {
       "output_type": "stream",
       "stream": "stdout",
       "text": [
        " \r",
        "1 profiles parsed..."
       ]
      },
      {
       "output_type": "stream",
       "stream": "stdout",
       "text": [
        "\r",
        "2 profiles parsed..."
       ]
      },
      {
       "output_type": "stream",
       "stream": "stdout",
       "text": [
        "\r",
        "3 profiles parsed..."
       ]
      },
      {
       "output_type": "stream",
       "stream": "stdout",
       "text": [
        "\r",
        "4 profiles parsed..."
       ]
      },
      {
       "output_type": "stream",
       "stream": "stdout",
       "text": [
        "\r",
        "5 profiles parsed..."
       ]
      },
      {
       "output_type": "stream",
       "stream": "stdout",
       "text": [
        "\r",
        "6 profiles parsed..."
       ]
      },
      {
       "output_type": "stream",
       "stream": "stdout",
       "text": [
        "\r",
        "7 profiles parsed..."
       ]
      },
      {
       "output_type": "stream",
       "stream": "stdout",
       "text": [
        "\r",
        "8 profiles parsed..."
       ]
      },
      {
       "output_type": "stream",
       "stream": "stdout",
       "text": [
        "\r",
        "9 profiles parsed..."
       ]
      },
      {
       "output_type": "stream",
       "stream": "stdout",
       "text": [
        "\r",
        "10 profiles parsed..."
       ]
      },
      {
       "output_type": "stream",
       "stream": "stdout",
       "text": [
        "\r",
        "11 profiles parsed..."
       ]
      },
      {
       "output_type": "stream",
       "stream": "stdout",
       "text": [
        "\r",
        "12 profiles parsed..."
       ]
      },
      {
       "output_type": "stream",
       "stream": "stdout",
       "text": [
        "\r",
        "13 profiles parsed..."
       ]
      },
      {
       "output_type": "stream",
       "stream": "stdout",
       "text": [
        "\r",
        "14 profiles parsed..."
       ]
      },
      {
       "output_type": "stream",
       "stream": "stdout",
       "text": [
        "\r",
        "15 profiles parsed..."
       ]
      },
      {
       "output_type": "stream",
       "stream": "stdout",
       "text": [
        "\r",
        "16 profiles parsed..."
       ]
      },
      {
       "output_type": "stream",
       "stream": "stdout",
       "text": [
        "done parsing!\n"
       ]
      }
     ],
     "prompt_number": 2
    },
    {
     "cell_type": "code",
     "collapsed": false,
     "input": [
      "print tesla_NEG.dframe"
     ],
     "language": "python",
     "metadata": {},
     "outputs": [
      {
       "output_type": "stream",
       "stream": "stdout",
       "text": [
        "                                             called nuclides rate_active   self\n",
        "function                                                                       \n",
        "__cross_section_MOD_calculate_xs           10886902      297     570.701   4.61\n",
        "__cross_section_MOD_calculate_nuclide_xs  384122101      297     570.701  70.02\n",
        "__search_MOD_binary_search_real           384122101      297     570.701  72.53\n",
        "__cross_section_MOD_calculate_xs           10881792       99     2021.88   1.78\n",
        "__cross_section_MOD_calculate_nuclide_xs  109056186       99     2021.88  16.70\n",
        "__search_MOD_binary_search_real           109056186       99     2021.88  14.39\n",
        "__cross_section_MOD_calculate_xs           10868409      257     672.970   4.44\n",
        "__cross_section_MOD_calculate_nuclide_xs  327538976      257     672.970  59.00\n",
        "__search_MOD_binary_search_real           327538976      257     672.970  59.90\n",
        "__cross_section_MOD_calculate_xs           10862736      217     804.518   3.84\n",
        "__cross_section_MOD_calculate_nuclide_xs  272091235      217     804.518  48.32\n",
        "__search_MOD_binary_search_real           272091235      217     804.518  49.75\n",
        "__cross_section_MOD_calculate_xs           10879321      336     501.288   5.50\n",
        "__cross_section_MOD_calculate_nuclide_xs  437351449      336     501.288  80.92\n",
        "__search_MOD_binary_search_real           437351449      336     501.288  83.81\n",
        "__cross_section_MOD_calculate_xs           10879026      178     1010.59   3.11\n",
        "__cross_section_MOD_calculate_nuclide_xs  218490781      178     1010.59  38.04\n",
        "__search_MOD_binary_search_real           218490781      178     1010.59  36.52\n",
        "__cross_section_MOD_calculate_xs           10850068      139     1338.53   2.21\n",
        "__cross_section_MOD_calculate_nuclide_xs  164144759      139     1338.53  28.33\n",
        "__search_MOD_binary_search_real           164144759      139     1338.53  25.70\n",
        "__cross_section_MOD_calculate_xs           10883307      317     533.943   4.95\n",
        "__cross_section_MOD_calculate_nuclide_xs  411420108      317     533.943  75.08\n",
        "__search_MOD_binary_search_real           411420108      317     533.943  78.66\n",
        "__cross_section_MOD_calculate_xs           10883076       59     4259.49   1.10\n",
        "__cross_section_MOD_calculate_nuclide_xs   53488363       59     4259.49   4.49\n",
        "__search_MOD_binary_search_real            53488363       59     4259.49   5.97\n",
        "__cross_section_MOD_calculate_xs           10881792      119     1639.86   2.04\n",
        "__cross_section_MOD_calculate_nuclide_xs  136829506      119     1639.86  21.72\n",
        "__search_MOD_binary_search_real           136829506      119     1639.86  19.81\n",
        "__cross_section_MOD_calculate_xs           10867525      237     732.188   3.89\n",
        "__cross_section_MOD_calculate_nuclide_xs  299703757      237     732.188  54.19\n",
        "__search_MOD_binary_search_real           299703757      237     732.188  54.93\n",
        "__cross_section_MOD_calculate_xs           10881200      277     617.433   4.61\n",
        "__cross_section_MOD_calculate_nuclide_xs  356162719      277     617.433  62.96\n",
        "__search_MOD_binary_search_real           356162719      277     617.433  68.19\n",
        "__cross_section_MOD_calculate_xs           10873501       79     2853.72   1.20\n",
        "__cross_section_MOD_calculate_nuclide_xs   81253537       79     2853.72   9.27\n",
        "__search_MOD_binary_search_real            81253537       79     2853.72  10.06\n",
        "__cross_section_MOD_calculate_xs           10869947      356     470.258   6.22\n",
        "__cross_section_MOD_calculate_nuclide_xs  465054456      356     470.258  85.15\n",
        "__search_MOD_binary_search_real           465054456      356     470.258  90.81\n",
        "__cross_section_MOD_calculate_xs           10830440      197     901.868   3.05\n",
        "__cross_section_MOD_calculate_nuclide_xs  243745639      197     901.868  43.15\n",
        "__search_MOD_binary_search_real           243745639      197     901.868  43.18\n",
        "__cross_section_MOD_calculate_xs           10861447      158     1154.95   2.63\n",
        "__cross_section_MOD_calculate_nuclide_xs  190432294      158     1154.95  33.33\n",
        "__search_MOD_binary_search_real           190432294      158     1154.95  30.84\n"
       ]
      }
     ],
     "prompt_number": 3
    },
    {
     "cell_type": "code",
     "collapsed": false,
     "input": [
      "# Sanitize names\n",
      "tesla_NEG.clean_func_names('gnu')\n",
      "tesla_NEG.dframe.reset_index(inplace=True)"
     ],
     "language": "python",
     "metadata": {},
     "outputs": [],
     "prompt_number": 4
    },
    {
     "cell_type": "code",
     "collapsed": false,
     "input": [
      "# Create self-per called column\n",
      "tesla_NEG.dframe['self_per_called'] = tesla_NEG.dframe.self / tesla_NEG.dframe.called"
     ],
     "language": "python",
     "metadata": {},
     "outputs": [],
     "prompt_number": 10
    },
    {
     "cell_type": "code",
     "collapsed": false,
     "input": [
      "# Groupby to get mean and stds\n",
      "tesla_NEG_means = tesla_NEG.dframe.convert_objects(convert_numeric=True).groupby(['index', 'nuclides']).mean()\n",
      "tesla_NEG_stds = tesla_NEG.dframe.convert_objects(convert_numeric=True).groupby(['index', 'nuclides']).std()"
     ],
     "language": "python",
     "metadata": {},
     "outputs": [],
     "prompt_number": 13
    },
    {
     "cell_type": "code",
     "collapsed": false,
     "input": [
      "# Plot call counts\n",
      "fig, axes = plt.subplots(nrows=1, ncols=1)\n",
      "for f in tesla_NEG_means.index.get_level_values(0).unique():\n",
      "    axes.plot( tesla_NEG_means.loc[f].index, tesla_NEG_means.loc[f].called, label = f)\n",
      "axes.set_title('Subroutine call counts')\n",
      "axes.set_xlabel('number of nuclides')\n",
      "axes.set_ylabel('call count of subroutine')\n",
      "axes.grid()\n",
      "axes.legend(loc=2)\n",
      "plt.show()"
     ],
     "language": "python",
     "metadata": {},
     "outputs": [],
     "prompt_number": 7
    },
    {
     "cell_type": "code",
     "collapsed": false,
     "input": [
      "# Plot self times\n",
      "fig, axes = plt.subplots(nrows=1, ncols=1)\n",
      "for f in tesla_NEG_means.index.get_level_values(0).unique():\n",
      "    axes.errorbar(tesla_NEG_means.loc[f].index, tesla_NEG_means.loc[f].self, \n",
      "                  yerr=tesla_NEG_stds.loc[f].self,label = f)\n",
      "axes.set_title('Subroutine self times')\n",
      "axes.set_xlabel('number of nuclides')\n",
      "axes.set_ylabel('self time of subroutine')\n",
      "axes.grid()\n",
      "axes.legend(loc=2)\n",
      "plt.show()"
     ],
     "language": "python",
     "metadata": {},
     "outputs": [],
     "prompt_number": 8
    },
    {
     "cell_type": "code",
     "collapsed": false,
     "input": [
      "# Plot self-per-call\n",
      "fig, axes = plt.subplots(nrows=1, ncols=1)\n",
      "for f in tesla_NEG_means.index.get_level_values(0).unique():\n",
      "    axes.errorbar(tesla_NEG_means.loc[f].index, tesla_NEG_means.loc[f].self_per_called, \n",
      "                  yerr=tesla_NEG_stds.loc[f].self_per_called,label = f)\n",
      "axes.set_title('Subroutine self times per call count')\n",
      "axes.set_xlabel('number of nuclides')\n",
      "axes.set_ylabel('self time per call count of subroutine')\n",
      "axes.grid()\n",
      "axes.legend(loc=2)\n",
      "plt.show()"
     ],
     "language": "python",
     "metadata": {},
     "outputs": [],
     "prompt_number": 14
    },
    {
     "cell_type": "code",
     "collapsed": false,
     "input": [],
     "language": "python",
     "metadata": {},
     "outputs": []
    }
   ],
   "metadata": {}
  }
 ]
}