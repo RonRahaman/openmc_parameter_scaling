{
 "metadata": {
  "name": "",
  "signature": "sha256:20fb87bde2b6bb03299c2c4205da4b8cb8d8af91e598c9b3c8e9487577cdf2ac"
 },
 "nbformat": 3,
 "nbformat_minor": 0,
 "worksheets": [
  {
   "cells": [
    {
     "cell_type": "code",
     "collapsed": false,
     "input": [
      "import sys\n",
      "import matplotlib\n",
      "import matplotlib.pyplot as plt\n",
      "import numpy as np\n",
      "import pandas as pd\n",
      "\n",
      "sys.path.append('../lib/')\n",
      "from batch_classes import ParsedBatch"
     ],
     "language": "python",
     "metadata": {},
     "outputs": [],
     "prompt_number": 5
    },
    {
     "cell_type": "code",
     "collapsed": false,
     "input": [
      "# Parse batch from directory\n",
      "tesla_NEG = ParsedBatch('tesla_NEG',\n",
      "            cg_entries=[\n",
      "                {'primary': 'cross_section_mp_calculate_xs_'},\n",
      "                {'primary': 'cross_section_mp_calculate_xs_',\n",
      "                    'child' : 'search_mp_binary_search_real_'}\n",
      "                ],\n",
      "        output_pattern =\n",
      "        r'Number of nuclides:\\s+(?P<nuclides>[0-9\\.E\\-\\+]+)|'+\n",
      "        r'Calculation Rate \\(active\\)\\s+=\\s+(?P<rate_active>[0-9\\.E\\-\\+]+)\\s+neutrons/second')"
     ],
     "language": "python",
     "metadata": {},
     "outputs": []
    },
    {
     "cell_type": "code",
     "collapsed": false,
     "input": [
      "# Sanitize names\n",
      "tesla_NEG.clean_func_names('intel')\n",
      "tesla_NEG.dframe.reset_index(inplace=True)"
     ],
     "language": "python",
     "metadata": {},
     "outputs": [],
     "prompt_number": 8
    },
    {
     "cell_type": "code",
     "collapsed": false,
     "input": [
      "tesla_NEG.dframe['self_per_called'] = tesla_NEG.dframe.self / tesla_NEG.dframe.called"
     ],
     "language": "python",
     "metadata": {},
     "outputs": [],
     "prompt_number": 25
    },
    {
     "cell_type": "code",
     "collapsed": false,
     "input": [
      "# Groupby to get mean and stds\n",
      "tesla_NEG_means = tesla_NEG.dframe.convert_objects(convert_numeric=True).groupby(['function', 'nuclides']).mean()\n",
      "tesla_NEG_stds = tesla_NEG.dframe.convert_objects(convert_numeric=True).groupby(['function', 'nuclides']).std()"
     ],
     "language": "python",
     "metadata": {},
     "outputs": [],
     "prompt_number": 26
    },
    {
     "cell_type": "code",
     "collapsed": false,
     "input": [],
     "language": "python",
     "metadata": {},
     "outputs": [],
     "prompt_number": 24
    },
    {
     "cell_type": "code",
     "collapsed": false,
     "input": [
      "# Plot call counts\n",
      "fig, axes = plt.subplots(nrows=1, ncols=1)\n",
      "for f in tesla_NEG_means.index.get_level_values(0).unique():\n",
      "    axes.plot( tesla_NEG_means.loc[f].index, tesla_NEG_means.loc[f].called, label = f)\n",
      "axes.set_title('Subroutine call counts')\n",
      "axes.set_xlabel('number of nuclides')\n",
      "axes.set_ylabel('call count of subroutine')\n",
      "axes.grid()\n",
      "axes.legend(loc=2)\n",
      "plt.show()"
     ],
     "language": "python",
     "metadata": {},
     "outputs": [],
     "prompt_number": 34
    },
    {
     "cell_type": "code",
     "collapsed": false,
     "input": [
      "# Plot self times\n",
      "fig, axes = plt.subplots(nrows=1, ncols=1)\n",
      "for f in tesla_NEG_means.index.get_level_values(0).unique():\n",
      "    axes.errorbar(tesla_NEG_means.loc[f].index, tesla_NEG_means.loc[f].self, \n",
      "                  yerr=tesla_NEG_stds.loc[f].self,label = f)\n",
      "axes.set_title('Subroutine self times')\n",
      "axes.set_xlabel('number of nuclides')\n",
      "axes.set_ylabel('self time of subroutine')\n",
      "axes.grid()\n",
      "axes.legend(loc=2)\n",
      "plt.show()"
     ],
     "language": "python",
     "metadata": {},
     "outputs": [],
     "prompt_number": 33
    },
    {
     "cell_type": "code",
     "collapsed": false,
     "input": [
      "# Plot self times\n",
      "fig, axes = plt.subplots(nrows=1, ncols=1)\n",
      "for f in tesla_NEG_means.index.get_level_values(0).unique():\n",
      "    axes.errorbar(tesla_NEG_means.loc[f].index, tesla_NEG_means.loc[f].self_per_called, \n",
      "                  yerr=tesla_NEG_stds.loc[f].self_per_called,label = f)\n",
      "axes.set_title('Subroutine self times per call count')\n",
      "axes.set_xlabel('number of nuclides')\n",
      "axes.set_ylabel('self time per call count of subroutine')\n",
      "axes.grid()\n",
      "axes.legend(loc=2)\n",
      "plt.show()"
     ],
     "language": "python",
     "metadata": {},
     "outputs": [],
     "prompt_number": 38
    },
    {
     "cell_type": "code",
     "collapsed": false,
     "input": [],
     "language": "python",
     "metadata": {},
     "outputs": []
    }
   ],
   "metadata": {}
  }
 ]
}