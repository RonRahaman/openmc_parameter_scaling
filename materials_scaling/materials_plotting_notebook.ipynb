{
 "metadata": {
  "name": "",
  "signature": "sha256:60073356be16afa6b175ec4e8c8ccf60dddfb247daea7bb8deae92401f62c953"
 },
 "nbformat": 3,
 "nbformat_minor": 0,
 "worksheets": [
  {
   "cells": [
    {
     "cell_type": "code",
     "collapsed": false,
     "input": [
      " #!/usr/bin/env python\n",
      "import sys\n",
      "import matplotlib\n",
      "import matplotlib.pyplot as plt\n",
      "import numpy as np\n",
      "import pandas as pd\n",
      "\n",
      "sys.path.append('../lib/')\n",
      "from batch_classes import ParsedBatch\n",
      "\n",
      "class MissingDict(dict):\n",
      "    def __missing__(self, key):\n",
      "        return key\n",
      "    \n",
      "func_dict = MissingDict({\n",
      "    'calculate_xs' : 'calc-macro-xs', \n",
      "    'calculate_nuclide_xs' : 'calc-micro-xs', \n",
      "    'binary_search_real' : 'binary-search'})\n",
      "\n",
      "# Plot a batch without error bars\n",
      "def plot_batch(frame, axis, title, column, xlabel, ylabel):\n",
      "    for (f,linestyle,fillstyle,marker) in zip(\n",
      "        ['calculate_xs', 'calculate_nuclide_xs', 'binary_search_real'],\n",
      "        ['-', '-', ':'],\n",
      "        ['bottom', 'bottom', 'top'],\n",
      "        ['o', 'o', 'o']):\n",
      "    # for f in frame.index.get_level_values(0).unique():\n",
      "        axis.plot(\n",
      "            [x-35 for x in frame.loc[f].index], \n",
      "            frame.loc[f][column], \n",
      "            label = func_dict[f], \n",
      "            linestyle=linestyle, \n",
      "            fillstyle=fillstyle,\n",
      "            marker=marker)\n",
      "    axis.set_title(title)\n",
      "    axis.set_xlabel(xlabel)\n",
      "    axis.set_ylabel(ylabel)\n",
      "    axis.grid()\n",
      "    #axis.legend(loc=2)\n",
      "    \n",
      "# Plot a batch with error bars\n",
      "def errobar_batch(mean_fr, std_fr, axis, title, column, xlabel, ylabel):\n",
      "    for f in ['calculate_xs', 'calculate_nuclide_xs', 'binary_search_real']:\n",
      "    #for f in mean_fr.index.get_level_values(0).unique():\n",
      "        axis.errorbar([x-35 for x in mean_fr.loc[f].index], mean_fr.loc[f][column],\n",
      "                      yerr=std_fr.loc[f][column], label = func_dict[f])\n",
      "    axis.set_title(title)\n",
      "    axis.set_xlabel(xlabel)\n",
      "    axis.set_ylabel(ylabel)\n",
      "    axis.grid()\n",
      "    #axis.legend(loc=2)"
     ],
     "language": "python",
     "metadata": {},
     "outputs": [
      {
       "output_type": "stream",
       "stream": "stderr",
       "text": [
        "/opt/local/Library/Frameworks/Python.framework/Versions/2.7/lib/python2.7/site-packages/pandas/io/excel.py:626: UserWarning: Installed openpyxl is not supported at this time. Use >=1.6.1 and <2.0.0.\n",
        "  .format(openpyxl_compat.start_ver, openpyxl_compat.stop_ver))\n"
       ]
      }
     ],
     "prompt_number": 1
    },
    {
     "cell_type": "code",
     "collapsed": false,
     "input": [
      "# Telsa nuclide energy grid batch\n",
      "tesla_NEG = ParsedBatch('tesla_NEG',\n",
      "            cg_entries=[\n",
      "                {'primary': '__cross_section_MOD_calculate_xs'},\n",
      "                {'primary': '__cross_section_MOD_calculate_nuclide_xs'},\n",
      "                {'primary': '__cross_section_MOD_calculate_nuclide_xs',\n",
      "                    'child' : '__search_MOD_binary_search_real'}\n",
      "                ],\n",
      "        output_pattern =\n",
      "        r'Number of nuclides:\\s+(?P<nuclides>[0-9\\.E\\-\\+]+)|'+\n",
      "        r'Calculation Rate \\(active\\)\\s+=\\s+(?P<rate_active>[0-9\\.E\\-\\+]+)\\s+neutrons/second')\n",
      "tesla_NEG.clean_func_names('gnu')\n",
      "tesla_NEG.dframe.reset_index(inplace=True)\n",
      "tesla_NEG.dframe['self_per_called'] = tesla_NEG.dframe.self / tesla_NEG.dframe.called"
     ],
     "language": "python",
     "metadata": {},
     "outputs": [
      {
       "output_type": "stream",
       "stream": "stdout",
       "text": [
        " \r",
        "1 profiles parsed..."
       ]
      },
      {
       "output_type": "stream",
       "stream": "stdout",
       "text": [
        "\r",
        "2 profiles parsed..."
       ]
      },
      {
       "output_type": "stream",
       "stream": "stdout",
       "text": [
        "\r",
        "3 profiles parsed..."
       ]
      },
      {
       "output_type": "stream",
       "stream": "stdout",
       "text": [
        "\r",
        "4 profiles parsed..."
       ]
      },
      {
       "output_type": "stream",
       "stream": "stdout",
       "text": [
        "\r",
        "5 profiles parsed..."
       ]
      },
      {
       "output_type": "stream",
       "stream": "stdout",
       "text": [
        "\r",
        "6 profiles parsed..."
       ]
      },
      {
       "output_type": "stream",
       "stream": "stdout",
       "text": [
        "\r",
        "7 profiles parsed..."
       ]
      },
      {
       "output_type": "stream",
       "stream": "stdout",
       "text": [
        "\r",
        "8 profiles parsed..."
       ]
      },
      {
       "output_type": "stream",
       "stream": "stdout",
       "text": [
        "\r",
        "9 profiles parsed..."
       ]
      },
      {
       "output_type": "stream",
       "stream": "stdout",
       "text": [
        "\r",
        "10 profiles parsed..."
       ]
      },
      {
       "output_type": "stream",
       "stream": "stdout",
       "text": [
        "\r",
        "11 profiles parsed..."
       ]
      },
      {
       "output_type": "stream",
       "stream": "stdout",
       "text": [
        "\r",
        "12 profiles parsed..."
       ]
      },
      {
       "output_type": "stream",
       "stream": "stdout",
       "text": [
        "\r",
        "13 profiles parsed..."
       ]
      },
      {
       "output_type": "stream",
       "stream": "stdout",
       "text": [
        "\r",
        "14 profiles parsed..."
       ]
      },
      {
       "output_type": "stream",
       "stream": "stdout",
       "text": [
        "\r",
        "15 profiles parsed..."
       ]
      },
      {
       "output_type": "stream",
       "stream": "stdout",
       "text": [
        "\r",
        "16 profiles parsed..."
       ]
      },
      {
       "output_type": "stream",
       "stream": "stdout",
       "text": [
        "\r",
        "17 profiles parsed..."
       ]
      },
      {
       "output_type": "stream",
       "stream": "stdout",
       "text": [
        "\r",
        "18 profiles parsed..."
       ]
      },
      {
       "output_type": "stream",
       "stream": "stdout",
       "text": [
        "\r",
        "19 profiles parsed..."
       ]
      },
      {
       "output_type": "stream",
       "stream": "stdout",
       "text": [
        "\r",
        "20 profiles parsed..."
       ]
      },
      {
       "output_type": "stream",
       "stream": "stdout",
       "text": [
        "\r",
        "21 profiles parsed..."
       ]
      },
      {
       "output_type": "stream",
       "stream": "stdout",
       "text": [
        "\r",
        "22 profiles parsed..."
       ]
      },
      {
       "output_type": "stream",
       "stream": "stdout",
       "text": [
        "\r",
        "23 profiles parsed..."
       ]
      },
      {
       "output_type": "stream",
       "stream": "stdout",
       "text": [
        "\r",
        "24 profiles parsed..."
       ]
      },
      {
       "output_type": "stream",
       "stream": "stdout",
       "text": [
        "\r",
        "25 profiles parsed..."
       ]
      },
      {
       "output_type": "stream",
       "stream": "stdout",
       "text": [
        "\r",
        "26 profiles parsed..."
       ]
      },
      {
       "output_type": "stream",
       "stream": "stdout",
       "text": [
        "\r",
        "27 profiles parsed..."
       ]
      },
      {
       "output_type": "stream",
       "stream": "stdout",
       "text": [
        "\r",
        "28 profiles parsed..."
       ]
      },
      {
       "output_type": "stream",
       "stream": "stdout",
       "text": [
        "\r",
        "29 profiles parsed..."
       ]
      },
      {
       "output_type": "stream",
       "stream": "stdout",
       "text": [
        "\r",
        "30 profiles parsed..."
       ]
      },
      {
       "output_type": "stream",
       "stream": "stdout",
       "text": [
        "\r",
        "31 profiles parsed..."
       ]
      },
      {
       "output_type": "stream",
       "stream": "stdout",
       "text": [
        "\r",
        "32 profiles parsed..."
       ]
      },
      {
       "output_type": "stream",
       "stream": "stdout",
       "text": [
        "\r",
        "33 profiles parsed..."
       ]
      },
      {
       "output_type": "stream",
       "stream": "stdout",
       "text": [
        "\r",
        "34 profiles parsed..."
       ]
      },
      {
       "output_type": "stream",
       "stream": "stdout",
       "text": [
        "\r",
        "35 profiles parsed..."
       ]
      },
      {
       "output_type": "stream",
       "stream": "stdout",
       "text": [
        "\r",
        "36 profiles parsed..."
       ]
      },
      {
       "output_type": "stream",
       "stream": "stdout",
       "text": [
        "\r",
        "37 profiles parsed..."
       ]
      },
      {
       "output_type": "stream",
       "stream": "stdout",
       "text": [
        "\r",
        "38 profiles parsed..."
       ]
      },
      {
       "output_type": "stream",
       "stream": "stdout",
       "text": [
        "\r",
        "39 profiles parsed..."
       ]
      },
      {
       "output_type": "stream",
       "stream": "stdout",
       "text": [
        "\r",
        "40 profiles parsed..."
       ]
      },
      {
       "output_type": "stream",
       "stream": "stdout",
       "text": [
        "\r",
        "41 profiles parsed..."
       ]
      },
      {
       "output_type": "stream",
       "stream": "stdout",
       "text": [
        "\r",
        "42 profiles parsed..."
       ]
      },
      {
       "output_type": "stream",
       "stream": "stdout",
       "text": [
        "\r",
        "43 profiles parsed..."
       ]
      },
      {
       "output_type": "stream",
       "stream": "stdout",
       "text": [
        "\r",
        "44 profiles parsed..."
       ]
      },
      {
       "output_type": "stream",
       "stream": "stdout",
       "text": [
        "\r",
        "45 profiles parsed..."
       ]
      },
      {
       "output_type": "stream",
       "stream": "stdout",
       "text": [
        "\r",
        "46 profiles parsed..."
       ]
      },
      {
       "output_type": "stream",
       "stream": "stdout",
       "text": [
        "\r",
        "47 profiles parsed..."
       ]
      },
      {
       "output_type": "stream",
       "stream": "stdout",
       "text": [
        "\r",
        "48 profiles parsed..."
       ]
      },
      {
       "output_type": "stream",
       "stream": "stdout",
       "text": [
        "\r",
        "49 profiles parsed..."
       ]
      },
      {
       "output_type": "stream",
       "stream": "stdout",
       "text": [
        "\r",
        "50 profiles parsed..."
       ]
      },
      {
       "output_type": "stream",
       "stream": "stdout",
       "text": [
        "\r",
        "51 profiles parsed..."
       ]
      },
      {
       "output_type": "stream",
       "stream": "stdout",
       "text": [
        "\r",
        "52 profiles parsed..."
       ]
      },
      {
       "output_type": "stream",
       "stream": "stdout",
       "text": [
        "\r",
        "53 profiles parsed..."
       ]
      },
      {
       "output_type": "stream",
       "stream": "stdout",
       "text": [
        "\r",
        "54 profiles parsed..."
       ]
      },
      {
       "output_type": "stream",
       "stream": "stdout",
       "text": [
        "\r",
        "55 profiles parsed..."
       ]
      },
      {
       "output_type": "stream",
       "stream": "stdout",
       "text": [
        "\r",
        "56 profiles parsed..."
       ]
      },
      {
       "output_type": "stream",
       "stream": "stdout",
       "text": [
        "\r",
        "57 profiles parsed..."
       ]
      },
      {
       "output_type": "stream",
       "stream": "stdout",
       "text": [
        "\r",
        "58 profiles parsed..."
       ]
      },
      {
       "output_type": "stream",
       "stream": "stdout",
       "text": [
        "\r",
        "59 profiles parsed..."
       ]
      },
      {
       "output_type": "stream",
       "stream": "stdout",
       "text": [
        "\r",
        "60 profiles parsed..."
       ]
      },
      {
       "output_type": "stream",
       "stream": "stdout",
       "text": [
        "\r",
        "61 profiles parsed..."
       ]
      },
      {
       "output_type": "stream",
       "stream": "stdout",
       "text": [
        "\r",
        "62 profiles parsed..."
       ]
      },
      {
       "output_type": "stream",
       "stream": "stdout",
       "text": [
        "\r",
        "63 profiles parsed..."
       ]
      },
      {
       "output_type": "stream",
       "stream": "stdout",
       "text": [
        "\r",
        "64 profiles parsed..."
       ]
      },
      {
       "output_type": "stream",
       "stream": "stdout",
       "text": [
        "done parsing!\n"
       ]
      }
     ],
     "prompt_number": 2
    },
    {
     "cell_type": "code",
     "collapsed": false,
     "input": [
      "# Telsa unionized energy grid batch\n",
      "tesla_UEG = ParsedBatch('tesla_UEG',\n",
      "            cg_entries=[\n",
      "                {'primary': '__cross_section_MOD_calculate_xs'},\n",
      "                {'primary': '__cross_section_MOD_calculate_nuclide_xs'},\n",
      "                {'primary': '__cross_section_MOD_calculate_xs',\n",
      "                    'child' : '__search_MOD_binary_search_real'}\n",
      "                ],\n",
      "        output_pattern =\n",
      "        r'Number of nuclides:\\s+(?P<nuclides>[0-9\\.E\\-\\+]+)|'+\n",
      "        r'Calculation Rate \\(active\\)\\s+=\\s+(?P<rate_active>[0-9\\.E\\-\\+]+)\\s+neutrons/second')\n",
      "tesla_UEG.clean_func_names('gnu')\n",
      "tesla_UEG.dframe.reset_index(inplace=True)\n",
      "tesla_UEG.dframe['self_per_called'] = tesla_UEG.dframe.self / tesla_UEG.dframe.called"
     ],
     "language": "python",
     "metadata": {},
     "outputs": [
      {
       "output_type": "stream",
       "stream": "stdout",
       "text": [
        " \r",
        "1 profiles parsed..."
       ]
      },
      {
       "output_type": "stream",
       "stream": "stdout",
       "text": [
        "\r",
        "2 profiles parsed..."
       ]
      },
      {
       "output_type": "stream",
       "stream": "stdout",
       "text": [
        "\r",
        "3 profiles parsed..."
       ]
      },
      {
       "output_type": "stream",
       "stream": "stdout",
       "text": [
        "\r",
        "4 profiles parsed..."
       ]
      },
      {
       "output_type": "stream",
       "stream": "stdout",
       "text": [
        "\r",
        "5 profiles parsed..."
       ]
      },
      {
       "output_type": "stream",
       "stream": "stdout",
       "text": [
        "\r",
        "6 profiles parsed..."
       ]
      },
      {
       "output_type": "stream",
       "stream": "stdout",
       "text": [
        "\r",
        "7 profiles parsed..."
       ]
      },
      {
       "output_type": "stream",
       "stream": "stdout",
       "text": [
        "\r",
        "8 profiles parsed..."
       ]
      },
      {
       "output_type": "stream",
       "stream": "stdout",
       "text": [
        "\r",
        "9 profiles parsed..."
       ]
      },
      {
       "output_type": "stream",
       "stream": "stdout",
       "text": [
        "\r",
        "10 profiles parsed..."
       ]
      },
      {
       "output_type": "stream",
       "stream": "stdout",
       "text": [
        "\r",
        "11 profiles parsed..."
       ]
      },
      {
       "output_type": "stream",
       "stream": "stdout",
       "text": [
        "\r",
        "12 profiles parsed..."
       ]
      },
      {
       "output_type": "stream",
       "stream": "stdout",
       "text": [
        "\r",
        "13 profiles parsed..."
       ]
      },
      {
       "output_type": "stream",
       "stream": "stdout",
       "text": [
        "\r",
        "14 profiles parsed..."
       ]
      },
      {
       "output_type": "stream",
       "stream": "stdout",
       "text": [
        "\r",
        "15 profiles parsed..."
       ]
      },
      {
       "output_type": "stream",
       "stream": "stdout",
       "text": [
        "\r",
        "16 profiles parsed..."
       ]
      },
      {
       "output_type": "stream",
       "stream": "stdout",
       "text": [
        "\r",
        "17 profiles parsed..."
       ]
      },
      {
       "output_type": "stream",
       "stream": "stdout",
       "text": [
        "\r",
        "18 profiles parsed..."
       ]
      },
      {
       "output_type": "stream",
       "stream": "stdout",
       "text": [
        "\r",
        "19 profiles parsed..."
       ]
      },
      {
       "output_type": "stream",
       "stream": "stdout",
       "text": [
        "\r",
        "20 profiles parsed..."
       ]
      },
      {
       "output_type": "stream",
       "stream": "stdout",
       "text": [
        "\r",
        "21 profiles parsed..."
       ]
      },
      {
       "output_type": "stream",
       "stream": "stdout",
       "text": [
        "\r",
        "22 profiles parsed..."
       ]
      },
      {
       "output_type": "stream",
       "stream": "stdout",
       "text": [
        "\r",
        "23 profiles parsed..."
       ]
      },
      {
       "output_type": "stream",
       "stream": "stdout",
       "text": [
        "\r",
        "24 profiles parsed..."
       ]
      },
      {
       "output_type": "stream",
       "stream": "stdout",
       "text": [
        "\r",
        "25 profiles parsed..."
       ]
      },
      {
       "output_type": "stream",
       "stream": "stdout",
       "text": [
        "\r",
        "26 profiles parsed..."
       ]
      },
      {
       "output_type": "stream",
       "stream": "stdout",
       "text": [
        "\r",
        "27 profiles parsed..."
       ]
      },
      {
       "output_type": "stream",
       "stream": "stdout",
       "text": [
        "\r",
        "28 profiles parsed..."
       ]
      },
      {
       "output_type": "stream",
       "stream": "stdout",
       "text": [
        "\r",
        "29 profiles parsed..."
       ]
      },
      {
       "output_type": "stream",
       "stream": "stdout",
       "text": [
        "\r",
        "30 profiles parsed..."
       ]
      },
      {
       "output_type": "stream",
       "stream": "stdout",
       "text": [
        "\r",
        "31 profiles parsed..."
       ]
      },
      {
       "output_type": "stream",
       "stream": "stdout",
       "text": [
        "\r",
        "32 profiles parsed..."
       ]
      },
      {
       "output_type": "stream",
       "stream": "stdout",
       "text": [
        "\r",
        "33 profiles parsed..."
       ]
      },
      {
       "output_type": "stream",
       "stream": "stdout",
       "text": [
        "\r",
        "34 profiles parsed..."
       ]
      },
      {
       "output_type": "stream",
       "stream": "stdout",
       "text": [
        "\r",
        "35 profiles parsed..."
       ]
      },
      {
       "output_type": "stream",
       "stream": "stdout",
       "text": [
        "\r",
        "36 profiles parsed..."
       ]
      },
      {
       "output_type": "stream",
       "stream": "stdout",
       "text": [
        "\r",
        "37 profiles parsed..."
       ]
      },
      {
       "output_type": "stream",
       "stream": "stdout",
       "text": [
        "\r",
        "38 profiles parsed..."
       ]
      },
      {
       "output_type": "stream",
       "stream": "stdout",
       "text": [
        "\r",
        "39 profiles parsed..."
       ]
      },
      {
       "output_type": "stream",
       "stream": "stdout",
       "text": [
        "\r",
        "40 profiles parsed..."
       ]
      },
      {
       "output_type": "stream",
       "stream": "stdout",
       "text": [
        "\r",
        "41 profiles parsed..."
       ]
      },
      {
       "output_type": "stream",
       "stream": "stdout",
       "text": [
        "\r",
        "42 profiles parsed..."
       ]
      },
      {
       "output_type": "stream",
       "stream": "stdout",
       "text": [
        "\r",
        "43 profiles parsed..."
       ]
      },
      {
       "output_type": "stream",
       "stream": "stdout",
       "text": [
        "\r",
        "44 profiles parsed..."
       ]
      },
      {
       "output_type": "stream",
       "stream": "stdout",
       "text": [
        "\r",
        "45 profiles parsed..."
       ]
      },
      {
       "output_type": "stream",
       "stream": "stdout",
       "text": [
        "\r",
        "46 profiles parsed..."
       ]
      },
      {
       "output_type": "stream",
       "stream": "stdout",
       "text": [
        "\r",
        "47 profiles parsed..."
       ]
      },
      {
       "output_type": "stream",
       "stream": "stdout",
       "text": [
        "\r",
        "48 profiles parsed..."
       ]
      },
      {
       "output_type": "stream",
       "stream": "stdout",
       "text": [
        "\r",
        "49 profiles parsed..."
       ]
      },
      {
       "output_type": "stream",
       "stream": "stdout",
       "text": [
        "\r",
        "50 profiles parsed..."
       ]
      },
      {
       "output_type": "stream",
       "stream": "stdout",
       "text": [
        "\r",
        "51 profiles parsed..."
       ]
      },
      {
       "output_type": "stream",
       "stream": "stdout",
       "text": [
        "\r",
        "52 profiles parsed..."
       ]
      },
      {
       "output_type": "stream",
       "stream": "stdout",
       "text": [
        "\r",
        "53 profiles parsed..."
       ]
      },
      {
       "output_type": "stream",
       "stream": "stdout",
       "text": [
        "\r",
        "54 profiles parsed..."
       ]
      },
      {
       "output_type": "stream",
       "stream": "stdout",
       "text": [
        "\r",
        "55 profiles parsed..."
       ]
      },
      {
       "output_type": "stream",
       "stream": "stdout",
       "text": [
        "\r",
        "56 profiles parsed..."
       ]
      },
      {
       "output_type": "stream",
       "stream": "stdout",
       "text": [
        "\r",
        "57 profiles parsed..."
       ]
      },
      {
       "output_type": "stream",
       "stream": "stdout",
       "text": [
        "\r",
        "58 profiles parsed..."
       ]
      },
      {
       "output_type": "stream",
       "stream": "stdout",
       "text": [
        "\r",
        "59 profiles parsed..."
       ]
      },
      {
       "output_type": "stream",
       "stream": "stdout",
       "text": [
        "\r",
        "60 profiles parsed..."
       ]
      },
      {
       "output_type": "stream",
       "stream": "stdout",
       "text": [
        "\r",
        "61 profiles parsed..."
       ]
      },
      {
       "output_type": "stream",
       "stream": "stdout",
       "text": [
        "\r",
        "62 profiles parsed..."
       ]
      },
      {
       "output_type": "stream",
       "stream": "stdout",
       "text": [
        "\r",
        "63 profiles parsed..."
       ]
      },
      {
       "output_type": "stream",
       "stream": "stdout",
       "text": [
        "\r",
        "64 profiles parsed..."
       ]
      },
      {
       "output_type": "stream",
       "stream": "stdout",
       "text": [
        "done parsing!\n"
       ]
      }
     ],
     "prompt_number": 3
    },
    {
     "cell_type": "code",
     "collapsed": false,
     "input": [
      "# Vesta nuclide energy grid batch\n",
      "vesta_NEG = ParsedBatch('vesta_NEG',\n",
      "            cg_entries=[\n",
      "                {'primary': '.__cross_section_NMOD_calculate_xs'},\n",
      "                {'primary': '.__cross_section_NMOD_calculate_nuclide_xs'},\n",
      "                {'primary': '.__cross_section_NMOD_calculate_nuclide_xs',\n",
      "                    'child' : '.__search_NMOD_binary_search_real'}\n",
      "                ],\n",
      "        output_pattern =\n",
      "        r'Number of nuclides:\\s+(?P<nuclides>[0-9\\.E\\-\\+]+)|'+\n",
      "        r'Calculation Rate \\(active\\)\\s+=\\s+(?P<rate_active>[0-9\\.E\\-\\+]+)\\s+neutrons/second')\n",
      "vesta_NEG.clean_func_names('ibm')\n",
      "vesta_NEG.dframe.reset_index(inplace=True)\n",
      "vesta_NEG.dframe['self_per_called'] = vesta_NEG.dframe.self / vesta_NEG.dframe.called"
     ],
     "language": "python",
     "metadata": {},
     "outputs": [
      {
       "output_type": "stream",
       "stream": "stdout",
       "text": [
        " \r",
        "1 profiles parsed..."
       ]
      },
      {
       "output_type": "stream",
       "stream": "stdout",
       "text": [
        "\r",
        "2 profiles parsed..."
       ]
      },
      {
       "output_type": "stream",
       "stream": "stdout",
       "text": [
        "\r",
        "3 profiles parsed..."
       ]
      },
      {
       "output_type": "stream",
       "stream": "stdout",
       "text": [
        "\r",
        "4 profiles parsed..."
       ]
      },
      {
       "output_type": "stream",
       "stream": "stdout",
       "text": [
        "\r",
        "5 profiles parsed..."
       ]
      },
      {
       "output_type": "stream",
       "stream": "stdout",
       "text": [
        "\r",
        "6 profiles parsed..."
       ]
      },
      {
       "output_type": "stream",
       "stream": "stdout",
       "text": [
        "\r",
        "7 profiles parsed..."
       ]
      },
      {
       "output_type": "stream",
       "stream": "stdout",
       "text": [
        "\r",
        "8 profiles parsed..."
       ]
      },
      {
       "output_type": "stream",
       "stream": "stdout",
       "text": [
        "\r",
        "9 profiles parsed..."
       ]
      },
      {
       "output_type": "stream",
       "stream": "stdout",
       "text": [
        "\r",
        "10 profiles parsed..."
       ]
      },
      {
       "output_type": "stream",
       "stream": "stdout",
       "text": [
        "\r",
        "11 profiles parsed..."
       ]
      },
      {
       "output_type": "stream",
       "stream": "stdout",
       "text": [
        "\r",
        "12 profiles parsed..."
       ]
      },
      {
       "output_type": "stream",
       "stream": "stdout",
       "text": [
        "\r",
        "13 profiles parsed..."
       ]
      },
      {
       "output_type": "stream",
       "stream": "stdout",
       "text": [
        "\r",
        "14 profiles parsed..."
       ]
      },
      {
       "output_type": "stream",
       "stream": "stdout",
       "text": [
        "\r",
        "15 profiles parsed..."
       ]
      },
      {
       "output_type": "stream",
       "stream": "stdout",
       "text": [
        "\r",
        "16 profiles parsed..."
       ]
      },
      {
       "output_type": "stream",
       "stream": "stdout",
       "text": [
        "\r",
        "17 profiles parsed..."
       ]
      },
      {
       "output_type": "stream",
       "stream": "stdout",
       "text": [
        "\r",
        "18 profiles parsed..."
       ]
      },
      {
       "output_type": "stream",
       "stream": "stdout",
       "text": [
        "\r",
        "19 profiles parsed..."
       ]
      },
      {
       "output_type": "stream",
       "stream": "stdout",
       "text": [
        "\r",
        "20 profiles parsed..."
       ]
      },
      {
       "output_type": "stream",
       "stream": "stdout",
       "text": [
        "\r",
        "21 profiles parsed..."
       ]
      },
      {
       "output_type": "stream",
       "stream": "stdout",
       "text": [
        "\r",
        "22 profiles parsed..."
       ]
      },
      {
       "output_type": "stream",
       "stream": "stdout",
       "text": [
        "\r",
        "23 profiles parsed..."
       ]
      },
      {
       "output_type": "stream",
       "stream": "stdout",
       "text": [
        "\r",
        "24 profiles parsed..."
       ]
      },
      {
       "output_type": "stream",
       "stream": "stdout",
       "text": [
        "\r",
        "25 profiles parsed..."
       ]
      },
      {
       "output_type": "stream",
       "stream": "stdout",
       "text": [
        "\r",
        "26 profiles parsed..."
       ]
      },
      {
       "output_type": "stream",
       "stream": "stdout",
       "text": [
        "\r",
        "27 profiles parsed..."
       ]
      },
      {
       "output_type": "stream",
       "stream": "stdout",
       "text": [
        "\r",
        "28 profiles parsed..."
       ]
      },
      {
       "output_type": "stream",
       "stream": "stdout",
       "text": [
        "\r",
        "29 profiles parsed..."
       ]
      },
      {
       "output_type": "stream",
       "stream": "stdout",
       "text": [
        "\r",
        "30 profiles parsed..."
       ]
      },
      {
       "output_type": "stream",
       "stream": "stdout",
       "text": [
        "\r",
        "31 profiles parsed..."
       ]
      },
      {
       "output_type": "stream",
       "stream": "stdout",
       "text": [
        "\r",
        "32 profiles parsed..."
       ]
      },
      {
       "output_type": "stream",
       "stream": "stdout",
       "text": [
        "\r",
        "33 profiles parsed..."
       ]
      },
      {
       "output_type": "stream",
       "stream": "stdout",
       "text": [
        "\r",
        "34 profiles parsed..."
       ]
      },
      {
       "output_type": "stream",
       "stream": "stdout",
       "text": [
        "\r",
        "35 profiles parsed..."
       ]
      },
      {
       "output_type": "stream",
       "stream": "stdout",
       "text": [
        "\r",
        "36 profiles parsed..."
       ]
      },
      {
       "output_type": "stream",
       "stream": "stdout",
       "text": [
        "\r",
        "37 profiles parsed..."
       ]
      },
      {
       "output_type": "stream",
       "stream": "stdout",
       "text": [
        "\r",
        "38 profiles parsed..."
       ]
      },
      {
       "output_type": "stream",
       "stream": "stdout",
       "text": [
        "\r",
        "39 profiles parsed..."
       ]
      },
      {
       "output_type": "stream",
       "stream": "stdout",
       "text": [
        "\r",
        "40 profiles parsed..."
       ]
      },
      {
       "output_type": "stream",
       "stream": "stdout",
       "text": [
        "\r",
        "41 profiles parsed..."
       ]
      },
      {
       "output_type": "stream",
       "stream": "stdout",
       "text": [
        "\r",
        "42 profiles parsed..."
       ]
      },
      {
       "output_type": "stream",
       "stream": "stdout",
       "text": [
        "\r",
        "43 profiles parsed..."
       ]
      },
      {
       "output_type": "stream",
       "stream": "stdout",
       "text": [
        "\r",
        "44 profiles parsed..."
       ]
      },
      {
       "output_type": "stream",
       "stream": "stdout",
       "text": [
        "\r",
        "45 profiles parsed..."
       ]
      },
      {
       "output_type": "stream",
       "stream": "stdout",
       "text": [
        "\r",
        "46 profiles parsed..."
       ]
      },
      {
       "output_type": "stream",
       "stream": "stdout",
       "text": [
        "\r",
        "47 profiles parsed..."
       ]
      },
      {
       "output_type": "stream",
       "stream": "stdout",
       "text": [
        "\r",
        "48 profiles parsed..."
       ]
      },
      {
       "output_type": "stream",
       "stream": "stdout",
       "text": [
        "\r",
        "49 profiles parsed..."
       ]
      },
      {
       "output_type": "stream",
       "stream": "stdout",
       "text": [
        "\r",
        "50 profiles parsed..."
       ]
      },
      {
       "output_type": "stream",
       "stream": "stdout",
       "text": [
        "\r",
        "51 profiles parsed..."
       ]
      },
      {
       "output_type": "stream",
       "stream": "stdout",
       "text": [
        "\r",
        "52 profiles parsed..."
       ]
      },
      {
       "output_type": "stream",
       "stream": "stdout",
       "text": [
        "\r",
        "53 profiles parsed..."
       ]
      },
      {
       "output_type": "stream",
       "stream": "stdout",
       "text": [
        "\r",
        "54 profiles parsed..."
       ]
      },
      {
       "output_type": "stream",
       "stream": "stdout",
       "text": [
        "\r",
        "55 profiles parsed..."
       ]
      },
      {
       "output_type": "stream",
       "stream": "stdout",
       "text": [
        "\r",
        "56 profiles parsed..."
       ]
      },
      {
       "output_type": "stream",
       "stream": "stdout",
       "text": [
        "\r",
        "57 profiles parsed..."
       ]
      },
      {
       "output_type": "stream",
       "stream": "stdout",
       "text": [
        "\r",
        "58 profiles parsed..."
       ]
      },
      {
       "output_type": "stream",
       "stream": "stdout",
       "text": [
        "\r",
        "59 profiles parsed..."
       ]
      },
      {
       "output_type": "stream",
       "stream": "stdout",
       "text": [
        "\r",
        "60 profiles parsed..."
       ]
      },
      {
       "output_type": "stream",
       "stream": "stdout",
       "text": [
        "\r",
        "61 profiles parsed..."
       ]
      },
      {
       "output_type": "stream",
       "stream": "stdout",
       "text": [
        "\r",
        "62 profiles parsed..."
       ]
      },
      {
       "output_type": "stream",
       "stream": "stdout",
       "text": [
        "\r",
        "63 profiles parsed..."
       ]
      },
      {
       "output_type": "stream",
       "stream": "stdout",
       "text": [
        "\r",
        "64 profiles parsed..."
       ]
      },
      {
       "output_type": "stream",
       "stream": "stdout",
       "text": [
        "done parsing!\n"
       ]
      }
     ],
     "prompt_number": 4
    },
    {
     "cell_type": "code",
     "collapsed": false,
     "input": [
      "# Vesta unionized energy grid batch\n",
      "vesta_UEG = ParsedBatch('vesta_UEG',\n",
      "            cg_entries=[\n",
      "                {'primary': '.__cross_section_NMOD_calculate_xs'},\n",
      "                {'primary': '.__cross_section_NMOD_calculate_nuclide_xs'},\n",
      "                {'primary': '.__cross_section_NMOD_calculate_xs',\n",
      "                    'child' : '.__search_NMOD_binary_search_real'}\n",
      "                ],\n",
      "        output_pattern =\n",
      "        r'Number of nuclides:\\s+(?P<nuclides>[0-9\\.E\\-\\+]+)|'+\n",
      "        r'Calculation Rate \\(active\\)\\s+=\\s+(?P<rate_active>[0-9\\.E\\-\\+]+)\\s+neutrons/second')\n",
      "vesta_UEG.clean_func_names('ibm')\n",
      "vesta_UEG.dframe.reset_index(inplace=True)\n",
      "vesta_UEG.dframe['self_per_called'] = vesta_UEG.dframe.self / vesta_UEG.dframe.called"
     ],
     "language": "python",
     "metadata": {},
     "outputs": [
      {
       "output_type": "stream",
       "stream": "stdout",
       "text": [
        " \r",
        "1 profiles parsed..."
       ]
      },
      {
       "output_type": "stream",
       "stream": "stdout",
       "text": [
        "\r",
        "2 profiles parsed..."
       ]
      },
      {
       "output_type": "stream",
       "stream": "stdout",
       "text": [
        "\r",
        "3 profiles parsed..."
       ]
      },
      {
       "output_type": "stream",
       "stream": "stdout",
       "text": [
        "\r",
        "4 profiles parsed..."
       ]
      },
      {
       "output_type": "stream",
       "stream": "stdout",
       "text": [
        "\r",
        "5 profiles parsed..."
       ]
      },
      {
       "output_type": "stream",
       "stream": "stdout",
       "text": [
        "\r",
        "6 profiles parsed..."
       ]
      },
      {
       "output_type": "stream",
       "stream": "stdout",
       "text": [
        "\r",
        "7 profiles parsed..."
       ]
      },
      {
       "output_type": "stream",
       "stream": "stdout",
       "text": [
        "\r",
        "8 profiles parsed..."
       ]
      },
      {
       "output_type": "stream",
       "stream": "stdout",
       "text": [
        "\r",
        "9 profiles parsed..."
       ]
      },
      {
       "output_type": "stream",
       "stream": "stdout",
       "text": [
        "\r",
        "10 profiles parsed..."
       ]
      },
      {
       "output_type": "stream",
       "stream": "stdout",
       "text": [
        "\r",
        "11 profiles parsed..."
       ]
      },
      {
       "output_type": "stream",
       "stream": "stdout",
       "text": [
        "\r",
        "12 profiles parsed..."
       ]
      },
      {
       "output_type": "stream",
       "stream": "stdout",
       "text": [
        "\r",
        "13 profiles parsed..."
       ]
      },
      {
       "output_type": "stream",
       "stream": "stdout",
       "text": [
        "\r",
        "14 profiles parsed..."
       ]
      },
      {
       "output_type": "stream",
       "stream": "stdout",
       "text": [
        "\r",
        "15 profiles parsed..."
       ]
      },
      {
       "output_type": "stream",
       "stream": "stdout",
       "text": [
        "\r",
        "16 profiles parsed..."
       ]
      },
      {
       "output_type": "stream",
       "stream": "stdout",
       "text": [
        "\r",
        "17 profiles parsed..."
       ]
      },
      {
       "output_type": "stream",
       "stream": "stdout",
       "text": [
        "\r",
        "18 profiles parsed..."
       ]
      },
      {
       "output_type": "stream",
       "stream": "stdout",
       "text": [
        "\r",
        "19 profiles parsed..."
       ]
      },
      {
       "output_type": "stream",
       "stream": "stdout",
       "text": [
        "\r",
        "20 profiles parsed..."
       ]
      },
      {
       "output_type": "stream",
       "stream": "stdout",
       "text": [
        "\r",
        "21 profiles parsed..."
       ]
      },
      {
       "output_type": "stream",
       "stream": "stdout",
       "text": [
        "\r",
        "22 profiles parsed..."
       ]
      },
      {
       "output_type": "stream",
       "stream": "stdout",
       "text": [
        "\r",
        "23 profiles parsed..."
       ]
      },
      {
       "output_type": "stream",
       "stream": "stdout",
       "text": [
        "\r",
        "24 profiles parsed..."
       ]
      },
      {
       "output_type": "stream",
       "stream": "stdout",
       "text": [
        "\r",
        "25 profiles parsed..."
       ]
      },
      {
       "output_type": "stream",
       "stream": "stdout",
       "text": [
        "\r",
        "26 profiles parsed..."
       ]
      },
      {
       "output_type": "stream",
       "stream": "stdout",
       "text": [
        "\r",
        "27 profiles parsed..."
       ]
      },
      {
       "output_type": "stream",
       "stream": "stdout",
       "text": [
        "\r",
        "28 profiles parsed..."
       ]
      },
      {
       "output_type": "stream",
       "stream": "stdout",
       "text": [
        "\r",
        "29 profiles parsed..."
       ]
      },
      {
       "output_type": "stream",
       "stream": "stdout",
       "text": [
        "\r",
        "30 profiles parsed..."
       ]
      },
      {
       "output_type": "stream",
       "stream": "stdout",
       "text": [
        "\r",
        "31 profiles parsed..."
       ]
      },
      {
       "output_type": "stream",
       "stream": "stdout",
       "text": [
        "\r",
        "32 profiles parsed..."
       ]
      },
      {
       "output_type": "stream",
       "stream": "stdout",
       "text": [
        "\r",
        "33 profiles parsed..."
       ]
      },
      {
       "output_type": "stream",
       "stream": "stdout",
       "text": [
        "\r",
        "34 profiles parsed..."
       ]
      },
      {
       "output_type": "stream",
       "stream": "stdout",
       "text": [
        "\r",
        "35 profiles parsed..."
       ]
      },
      {
       "output_type": "stream",
       "stream": "stdout",
       "text": [
        "\r",
        "36 profiles parsed..."
       ]
      },
      {
       "output_type": "stream",
       "stream": "stdout",
       "text": [
        "\r",
        "37 profiles parsed..."
       ]
      },
      {
       "output_type": "stream",
       "stream": "stdout",
       "text": [
        "\r",
        "38 profiles parsed..."
       ]
      },
      {
       "output_type": "stream",
       "stream": "stdout",
       "text": [
        "\r",
        "39 profiles parsed..."
       ]
      },
      {
       "output_type": "stream",
       "stream": "stdout",
       "text": [
        "\r",
        "40 profiles parsed..."
       ]
      },
      {
       "output_type": "stream",
       "stream": "stdout",
       "text": [
        "\r",
        "41 profiles parsed..."
       ]
      },
      {
       "output_type": "stream",
       "stream": "stdout",
       "text": [
        "\r",
        "42 profiles parsed..."
       ]
      },
      {
       "output_type": "stream",
       "stream": "stdout",
       "text": [
        "\r",
        "43 profiles parsed..."
       ]
      },
      {
       "output_type": "stream",
       "stream": "stdout",
       "text": [
        "\r",
        "44 profiles parsed..."
       ]
      },
      {
       "output_type": "stream",
       "stream": "stdout",
       "text": [
        "\r",
        "45 profiles parsed..."
       ]
      },
      {
       "output_type": "stream",
       "stream": "stdout",
       "text": [
        "\r",
        "46 profiles parsed..."
       ]
      },
      {
       "output_type": "stream",
       "stream": "stdout",
       "text": [
        "\r",
        "47 profiles parsed..."
       ]
      },
      {
       "output_type": "stream",
       "stream": "stdout",
       "text": [
        "\r",
        "48 profiles parsed..."
       ]
      },
      {
       "output_type": "stream",
       "stream": "stdout",
       "text": [
        "\r",
        "49 profiles parsed..."
       ]
      },
      {
       "output_type": "stream",
       "stream": "stdout",
       "text": [
        "\r",
        "50 profiles parsed..."
       ]
      },
      {
       "output_type": "stream",
       "stream": "stdout",
       "text": [
        "\r",
        "51 profiles parsed..."
       ]
      },
      {
       "output_type": "stream",
       "stream": "stdout",
       "text": [
        "\r",
        "52 profiles parsed..."
       ]
      },
      {
       "output_type": "stream",
       "stream": "stdout",
       "text": [
        "\r",
        "53 profiles parsed..."
       ]
      },
      {
       "output_type": "stream",
       "stream": "stdout",
       "text": [
        "\r",
        "54 profiles parsed..."
       ]
      },
      {
       "output_type": "stream",
       "stream": "stdout",
       "text": [
        "\r",
        "55 profiles parsed..."
       ]
      },
      {
       "output_type": "stream",
       "stream": "stdout",
       "text": [
        "\r",
        "56 profiles parsed..."
       ]
      },
      {
       "output_type": "stream",
       "stream": "stdout",
       "text": [
        "\r",
        "57 profiles parsed..."
       ]
      },
      {
       "output_type": "stream",
       "stream": "stdout",
       "text": [
        "\r",
        "58 profiles parsed..."
       ]
      },
      {
       "output_type": "stream",
       "stream": "stdout",
       "text": [
        "\r",
        "59 profiles parsed..."
       ]
      },
      {
       "output_type": "stream",
       "stream": "stdout",
       "text": [
        "\r",
        "60 profiles parsed..."
       ]
      },
      {
       "output_type": "stream",
       "stream": "stdout",
       "text": [
        "\r",
        "61 profiles parsed..."
       ]
      },
      {
       "output_type": "stream",
       "stream": "stdout",
       "text": [
        "\r",
        "62 profiles parsed..."
       ]
      },
      {
       "output_type": "stream",
       "stream": "stdout",
       "text": [
        "\r",
        "63 profiles parsed..."
       ]
      },
      {
       "output_type": "stream",
       "stream": "stdout",
       "text": [
        "\r",
        "64 profiles parsed..."
       ]
      },
      {
       "output_type": "stream",
       "stream": "stdout",
       "text": [
        "done parsing!\n"
       ]
      }
     ],
     "prompt_number": 5
    },
    {
     "cell_type": "code",
     "collapsed": false,
     "input": [
      "# Plot call counts\n",
      "# Plot a batch without error bars\n",
      "def plot_calls(frame, axis, title, column, xlabel, ylabel):\n",
      "    for (f,linestyle,fillstyle,marker) in zip(\n",
      "        ['calculate_xs', 'calculate_nuclide_xs', 'binary_search_real'],\n",
      "        ['None', 'None', 'None'],\n",
      "        ['left', 'left', 'right'],\n",
      "        ['o', 'o', 'o']):\n",
      "    # for f in frame.index.get_level_values(0).unique():\n",
      "        axis.plot(\n",
      "            [x-35 for x in frame.loc[f].index], \n",
      "            frame.loc[f][column], \n",
      "            label = func_dict[f], \n",
      "            linestyle=linestyle, \n",
      "            fillstyle=fillstyle,\n",
      "            marker=marker,\n",
      "            markersize=8)\n",
      "    axis.set_title(title)\n",
      "    axis.set_xlabel(xlabel, size=10)\n",
      "    axis.set_ylabel(ylabel, size=10)\n",
      "    axis.tick_params(axis='both', which='both', labelsize=10)\n",
      "    axis.grid()\n",
      "    #axis.legend(loc=2)\n",
      "    \n",
      "fig, axes = plt.subplots(nrows=1, ncols=2)\n",
      "fig.subplots_adjust(wspace=0.3, bottom=0.2, left=0.1, right=0.95)\n",
      "for (batch, title, ax) in zip(\n",
      "        [vesta_NEG, vesta_UEG],\n",
      "        ['NEG', 'UEG'],\n",
      "        axes):\n",
      "    batch_means = batch.dframe.convert_objects(\n",
      "            convert_numeric=True).groupby(['index', 'nuclides']).mean()\n",
      "    batch_stds = batch.dframe.convert_objects(\n",
      "            convert_numeric=True).groupby(['index', 'nuclides']).std()\n",
      "    plot_calls(frame=batch_means, axis=ax, title=title,\n",
      "            column='called', xlabel='Nuclides in fuel', ylabel='Call count')\n",
      "axes[0].legend(loc=2, fontsize=9, numpoints=1, handletextpad=0, labelspacing=.3)\n",
      "\n",
      "plt.rc(\"font\", size=10)\n",
      "fig.set_size_inches(6,3.2)\n",
      "for ext in ['png', 'pdf']:\n",
      "    fig.savefig('figures/materials_calls.%s' % ext, format=ext)\n",
      "\n",
      "plt.show()"
     ],
     "language": "python",
     "metadata": {},
     "outputs": [],
     "prompt_number": 24
    },
    {
     "cell_type": "code",
     "collapsed": false,
     "input": [
      "# Plot self times\n",
      "def plot_self(mean_fr, std_fr, axis, title, column, xlabel, ylabel):\n",
      "    for f in ['calculate_xs', 'calculate_nuclide_xs', 'binary_search_real']:\n",
      "    #for f in mean_fr.index.get_level_values(0).unique():\n",
      "        axis.errorbar([x-35 for x in mean_fr.loc[f].index], mean_fr.loc[f][column],\n",
      "                      yerr=std_fr.loc[f][column], label = func_dict[f])\n",
      "    axis.set_title(title)\n",
      "    axis.set_xlabel(xlabel)\n",
      "    axis.set_ylabel(ylabel)\n",
      "    axis.xaxis.labelpad = 3\n",
      "    axis.yaxis.labelpad = 3\n",
      "    axis.grid()\n",
      "    #axis.legend(loc=2, fontsize=9)\n",
      "\n",
      "fig, axes = plt.subplots(nrows=2, ncols=2)\n",
      "fig.subplots_adjust(wspace=0.3, hspace=0.5, bottom=0.1, top=0.95, left=0.1, right=0.95)\n",
      "fig.subplots_adjust(wspace=0.25, hspace=0.5, bottom=0.1, left=0.1, right=0.95)\n",
      "for (batch, title, ax) in zip(\n",
      "        [tesla_NEG, tesla_UEG, vesta_NEG, vesta_UEG],\n",
      "        ['NEG, Intel Xeon E5-2650', 'UEG, Intel Xeon E5-2650', 'NEG, IBM BG/Q', 'UEG, IBM BG/Q'],\n",
      "        [axes[0,0], axes[0,1], axes[1,0], axes[1,1]]):\n",
      "    batch_means = batch.dframe.convert_objects(\n",
      "            convert_numeric=True).groupby(['index', 'nuclides']).mean()\n",
      "    batch_stds = batch.dframe.convert_objects(\n",
      "            convert_numeric=True).groupby(['index', 'nuclides']).std()\n",
      "    plot_self(mean_fr=batch_means, std_fr=batch_stds, axis=ax, title=title,\n",
      "            column='self', xlabel='Nuclides in fuel', ylabel='Self time (s)')\n",
      "#axes[0,0].legend(loc=2, fontsize=9)\n",
      "\n",
      "axes[0,0].legend(loc=2, fontsize=9, \n",
      "                 markerscale=0.8,   # Size of markers, relative to original\n",
      "                 handlelength=1.75, # Length of markers\n",
      "                 handletextpad=1,   # Horizontal spacing between markers and text\n",
      "                 labelspacing=.55    # Vertical spacing between lines\n",
      "                 )\n",
      "\n",
      "axes[0,0].set_ylim(top=140)\n",
      "axes[1,1].set_ylim(top=600)\n",
      "plt.rc(\"font\", size=10)\n",
      "fig.set_size_inches(7,5)\n",
      "for ext in ['pdf', 'png']:\n",
      "    fig.savefig('figures/materials_self.%s'%ext, format=ext)\n",
      "\n",
      "plt.show()"
     ],
     "language": "python",
     "metadata": {},
     "outputs": [],
     "prompt_number": 31
    },
    {
     "cell_type": "code",
     "collapsed": false,
     "input": [
      "# Plot self per call\n",
      "fig, axes = plt.subplots(nrows=2, ncols=2)\n",
      "for (batch, title, ax) in zip(\n",
      "        [tesla_NEG, tesla_UEG, vesta_NEG, vesta_UEG],\n",
      "        ['NEG, Intel Xeon E5-2650', 'UEG, Intel Xeon E5-2650', 'NEG, IBM BG/Q', 'UEG, IBM BG/Q'],\n",
      "        [axes[0,0], axes[0,1], axes[1,0], axes[1,1]]):\n",
      "    batch_means = batch.dframe.convert_objects(\n",
      "            convert_numeric=True).groupby(['index', 'nuclides']).mean()\n",
      "    batch_stds = batch.dframe.convert_objects(\n",
      "            convert_numeric=True).groupby(['index', 'nuclides']).std()\n",
      "    errobar_batch(mean_fr=batch_means, std_fr=batch_stds, axis=ax, title=title,\n",
      "            column='self_per_called', xlabel='nuclides in fuel', ylabel='self time per call')\n",
      "axes[0,0].legend(loc=2, fontsize=9)\n",
      "plt.show()"
     ],
     "language": "python",
     "metadata": {},
     "outputs": [],
     "prompt_number": 18
    },
    {
     "cell_type": "code",
     "collapsed": false,
     "input": [
      "# Plot speedup of self per called\n",
      "def errobar_batch_speedup(mean_fr, std_fr, axis, title, column, xlabel, ylabel):\n",
      "    for f in ['calculate_xs', 'calculate_nuclide_xs', 'binary_search_real']:\n",
      "    #for f in mean_fr.index.get_level_values(0).unique():\n",
      "        axis.errorbar(\n",
      "            [x-35 for x in mean_fr.loc[f].index], \n",
      "            mean_fr.loc[f][column][356] / mean_fr.loc[f][column],\n",
      "            yerr=std_fr.loc[f][column], \n",
      "            label = func_dict[f])\n",
      "    axis.set_title(title)\n",
      "    axis.set_xlabel(xlabel)\n",
      "    axis.set_ylabel(ylabel)\n",
      "    setp( axis.get_xticklabels(), visible=True)\n",
      "    setp( axis.get_yticklabels(), visible=True)\n",
      "    # axis.set_yscale('log', basey=2)\n",
      "    axis.grid()\n",
      "    #axis.legend(loc=2)\n",
      "\n",
      "\n",
      "fig, axes = plt.subplots(nrows=2, ncols=2, sharex=True, sharey=True)\n",
      "for (batch, title, ax) in zip(\n",
      "        [tesla_NEG, tesla_UEG, vesta_NEG, vesta_UEG],\n",
      "        ['NEG, Intel Xeon E5-2650', 'UEG, Intel Xeon E5-2650', 'NEG, IBM BG/Q', 'UEG, IBM BG/Q'],\n",
      "        [axes[0,0], axes[0,1], axes[1,0], axes[1,1]]):\n",
      "    batch_means = batch.dframe.convert_objects(\n",
      "        convert_numeric=True).groupby(['index', 'nuclides']).mean()\n",
      "    batch_means['self_per_called'] = batch_means['self_per_called']\n",
      "    batch_stds = batch.dframe.convert_objects(\n",
      "            convert_numeric=True).groupby(['index', 'nuclides']).std()\n",
      "    errobar_batch_speedup(mean_fr=batch_means, std_fr=batch_stds, axis=ax, title=title,\n",
      "            column='self_per_called', xlabel='Nuclides in Fuel', ylabel='Speedup')\n",
      "axes[0,1].legend(loc=1, fontsize=9)\n",
      "plt.show()"
     ],
     "language": "python",
     "metadata": {},
     "outputs": [],
     "prompt_number": 33
    },
    {
     "cell_type": "code",
     "collapsed": false,
     "input": [
      "f =tesla_NEG.dframe.convert_objects(\n",
      "            convert_numeric=True).groupby(['index', 'nuclides']).mean()\n",
      "f.ix['calculate_nuclide_xs']"
     ],
     "language": "python",
     "metadata": {},
     "outputs": [
      {
       "html": [
        "<div style=\"max-height:1000px;max-width:1500px;overflow:auto;\">\n",
        "<table border=\"1\" class=\"dataframe\">\n",
        "  <thead>\n",
        "    <tr style=\"text-align: right;\">\n",
        "      <th></th>\n",
        "      <th>called</th>\n",
        "      <th>self</th>\n",
        "      <th>rate_active</th>\n",
        "      <th>self_per_called</th>\n",
        "    </tr>\n",
        "    <tr>\n",
        "      <th>nuclides</th>\n",
        "      <th></th>\n",
        "      <th></th>\n",
        "      <th></th>\n",
        "      <th></th>\n",
        "    </tr>\n",
        "  </thead>\n",
        "  <tbody>\n",
        "    <tr>\n",
        "      <th>59 </th>\n",
        "      <td>  53488363</td>\n",
        "      <td>  4.4400</td>\n",
        "      <td> 4212.55500</td>\n",
        "      <td> 8.300871e-08</td>\n",
        "    </tr>\n",
        "    <tr>\n",
        "      <th>79 </th>\n",
        "      <td>  81253537</td>\n",
        "      <td>  9.9825</td>\n",
        "      <td> 2720.25250</td>\n",
        "      <td> 1.228562e-07</td>\n",
        "    </tr>\n",
        "    <tr>\n",
        "      <th>99 </th>\n",
        "      <td> 109056186</td>\n",
        "      <td> 17.3150</td>\n",
        "      <td> 1936.82750</td>\n",
        "      <td> 1.587714e-07</td>\n",
        "    </tr>\n",
        "    <tr>\n",
        "      <th>119</th>\n",
        "      <td> 136829506</td>\n",
        "      <td> 22.9450</td>\n",
        "      <td> 1547.30000</td>\n",
        "      <td> 1.676904e-07</td>\n",
        "    </tr>\n",
        "    <tr>\n",
        "      <th>139</th>\n",
        "      <td> 164144759</td>\n",
        "      <td> 28.5650</td>\n",
        "      <td> 1290.38250</td>\n",
        "      <td> 1.740232e-07</td>\n",
        "    </tr>\n",
        "    <tr>\n",
        "      <th>158</th>\n",
        "      <td> 190432294</td>\n",
        "      <td> 31.9425</td>\n",
        "      <td> 1168.95750</td>\n",
        "      <td> 1.677368e-07</td>\n",
        "    </tr>\n",
        "    <tr>\n",
        "      <th>178</th>\n",
        "      <td> 218490781</td>\n",
        "      <td> 36.4950</td>\n",
        "      <td> 1028.20500</td>\n",
        "      <td> 1.670322e-07</td>\n",
        "    </tr>\n",
        "    <tr>\n",
        "      <th>197</th>\n",
        "      <td> 243745639</td>\n",
        "      <td> 42.2625</td>\n",
        "      <td>  910.63550</td>\n",
        "      <td> 1.733877e-07</td>\n",
        "    </tr>\n",
        "    <tr>\n",
        "      <th>217</th>\n",
        "      <td> 272091235</td>\n",
        "      <td> 48.4975</td>\n",
        "      <td>  802.09175</td>\n",
        "      <td> 1.782398e-07</td>\n",
        "    </tr>\n",
        "    <tr>\n",
        "      <th>237</th>\n",
        "      <td> 299703757</td>\n",
        "      <td> 53.3925</td>\n",
        "      <td>  731.79475</td>\n",
        "      <td> 1.781509e-07</td>\n",
        "    </tr>\n",
        "    <tr>\n",
        "      <th>257</th>\n",
        "      <td> 327538976</td>\n",
        "      <td> 59.8225</td>\n",
        "      <td>  658.54500</td>\n",
        "      <td> 1.826424e-07</td>\n",
        "    </tr>\n",
        "    <tr>\n",
        "      <th>277</th>\n",
        "      <td> 356162719</td>\n",
        "      <td> 64.3425</td>\n",
        "      <td>  612.12950</td>\n",
        "      <td> 1.806548e-07</td>\n",
        "    </tr>\n",
        "    <tr>\n",
        "      <th>297</th>\n",
        "      <td> 384122101</td>\n",
        "      <td> 70.4300</td>\n",
        "      <td>  564.82425</td>\n",
        "      <td> 1.833532e-07</td>\n",
        "    </tr>\n",
        "    <tr>\n",
        "      <th>317</th>\n",
        "      <td> 411420108</td>\n",
        "      <td> 76.2800</td>\n",
        "      <td>  525.44975</td>\n",
        "      <td> 1.854066e-07</td>\n",
        "    </tr>\n",
        "    <tr>\n",
        "      <th>336</th>\n",
        "      <td> 437351449</td>\n",
        "      <td> 82.9250</td>\n",
        "      <td>  484.09875</td>\n",
        "      <td> 1.896072e-07</td>\n",
        "    </tr>\n",
        "    <tr>\n",
        "      <th>356</th>\n",
        "      <td> 465054456</td>\n",
        "      <td> 87.7675</td>\n",
        "      <td>  456.95775</td>\n",
        "      <td> 1.887252e-07</td>\n",
        "    </tr>\n",
        "  </tbody>\n",
        "</table>\n",
        "</div>"
       ],
       "metadata": {},
       "output_type": "pyout",
       "prompt_number": 42,
       "text": [
        "             called     self  rate_active  self_per_called\n",
        "nuclides                                                  \n",
        "59         53488363   4.4400   4212.55500     8.300871e-08\n",
        "79         81253537   9.9825   2720.25250     1.228562e-07\n",
        "99        109056186  17.3150   1936.82750     1.587714e-07\n",
        "119       136829506  22.9450   1547.30000     1.676904e-07\n",
        "139       164144759  28.5650   1290.38250     1.740232e-07\n",
        "158       190432294  31.9425   1168.95750     1.677368e-07\n",
        "178       218490781  36.4950   1028.20500     1.670322e-07\n",
        "197       243745639  42.2625    910.63550     1.733877e-07\n",
        "217       272091235  48.4975    802.09175     1.782398e-07\n",
        "237       299703757  53.3925    731.79475     1.781509e-07\n",
        "257       327538976  59.8225    658.54500     1.826424e-07\n",
        "277       356162719  64.3425    612.12950     1.806548e-07\n",
        "297       384122101  70.4300    564.82425     1.833532e-07\n",
        "317       411420108  76.2800    525.44975     1.854066e-07\n",
        "336       437351449  82.9250    484.09875     1.896072e-07\n",
        "356       465054456  87.7675    456.95775     1.887252e-07"
       ]
      }
     ],
     "prompt_number": 42
    },
    {
     "cell_type": "code",
     "collapsed": false,
     "input": [
      "f =tesla_UEG.dframe.convert_objects(\n",
      "            convert_numeric=True).groupby(['index', 'nuclides']).mean()\n",
      "g = f.ix['calculate_nuclide_xs']\n",
      "g.ix[356]/g.ix[59]"
     ],
     "language": "python",
     "metadata": {},
     "outputs": [
      {
       "metadata": {},
       "output_type": "pyout",
       "prompt_number": 20,
       "text": [
        "called              8.694498\n",
        "rate_active         0.128435\n",
        "self               18.045069\n",
        "self_per_called     2.075459\n",
        "dtype: float64"
       ]
      }
     ],
     "prompt_number": 20
    },
    {
     "cell_type": "code",
     "collapsed": false,
     "input": [
      "# Get speedup of NEG calculate_nuclide_xs\n",
      "f =tesla_NEG.dframe.convert_objects(\n",
      "            convert_numeric=True).groupby(['index', 'nuclides']).mean()\n",
      "g = f.ix['calculate_nuclide_xs']\n",
      "print g['self_per_called'].max()/g['self_per_called'].min()"
     ],
     "language": "python",
     "metadata": {},
     "outputs": [
      {
       "output_type": "stream",
       "stream": "stdout",
       "text": [
        "2.28418485119\n"
       ]
      }
     ],
     "prompt_number": 48
    },
    {
     "cell_type": "code",
     "collapsed": false,
     "input": [
      "# Get speedup of NEG calculate_nuclide_xs\n",
      "f =tesla_UEG.dframe.convert_objects(\n",
      "            convert_numeric=True).groupby(['index', 'nuclides']).mean()\n",
      "g = f.ix['calculate_nuclide_xs']\n",
      "print g['self_per_called'].max()/g['self_per_called'].min()"
     ],
     "language": "python",
     "metadata": {},
     "outputs": [
      {
       "output_type": "stream",
       "stream": "stdout",
       "text": [
        "2.07545850515\n"
       ]
      }
     ],
     "prompt_number": 47
    },
    {
     "cell_type": "code",
     "collapsed": false,
     "input": [],
     "language": "python",
     "metadata": {},
     "outputs": []
    }
   ],
   "metadata": {}
  }
 ]
}