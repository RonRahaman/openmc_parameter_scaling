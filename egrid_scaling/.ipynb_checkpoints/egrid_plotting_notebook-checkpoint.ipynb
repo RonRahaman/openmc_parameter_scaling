{
 "metadata": {
  "name": "",
  "signature": "sha256:66dc84473719a14a917fee1dc55b354db72c119223284c39c70029f8230fcbd4"
 },
 "nbformat": 3,
 "nbformat_minor": 0,
 "worksheets": [
  {
   "cells": [
    {
     "cell_type": "code",
     "collapsed": false,
     "input": [
      " #!/usr/bin/env python\n",
      "import sys\n",
      "import matplotlib\n",
      "import matplotlib.pyplot as plt\n",
      "import numpy as np\n",
      "import pandas as pd\n",
      "\n",
      "sys.path.append('../lib/')\n",
      "from batch_classes import ParsedBatch"
     ],
     "language": "python",
     "metadata": {},
     "outputs": [
      {
       "output_type": "stream",
       "stream": "stderr",
       "text": [
        "/opt/local/Library/Frameworks/Python.framework/Versions/2.7/lib/python2.7/site-packages/pandas/io/excel.py:626: UserWarning: Installed openpyxl is not supported at this time. Use >=1.6.1 and <2.0.0.\n",
        "  .format(openpyxl_compat.start_ver, openpyxl_compat.stop_ver))\n"
       ]
      }
     ],
     "prompt_number": 1
    },
    {
     "cell_type": "code",
     "collapsed": false,
     "input": [
      "# Plot a batch without error bars\n",
      "def plot_batch(frame, axis, title, column, xlabel, ylabel):\n",
      "    for f in ['calculate_xs', 'calculate_nuclide_xs', 'binary_search_real']:\n",
      "    # for f in frame.index.get_level_values(0).unique():\n",
      "        axis.plot(frame.loc[f].index, frame.loc[f][column], label = f, marker='o')\n",
      "    axis.set_title(title)\n",
      "    axis.set_xlabel(xlabel)\n",
      "    axis.set_xscale('log')\n",
      "    axis.set_ylabel(ylabel)\n",
      "    axis.grid()\n",
      "    axis.legend(loc=1)"
     ],
     "language": "python",
     "metadata": {},
     "outputs": [],
     "prompt_number": 17
    },
    {
     "cell_type": "code",
     "collapsed": false,
     "input": [
      "# Plot a batch with error bars\n",
      "def errobar_batch(mean_fr, std_fr, axis, title, column, xlabel, ylabel):\n",
      "    for f in ['calculate_xs', 'calculate_nuclide_xs', 'binary_search_real']:\n",
      "    #for f in mean_fr.index.get_level_values(0).unique():\n",
      "        axis.errorbar(mean_fr.loc[f].index, mean_fr.loc[f][column],\n",
      "                      yerr=std_fr.loc[f][column], label = f)\n",
      "    axis.set_title(title)\n",
      "    axis.set_xlabel(xlabel)\n",
      "    axis.set_xscale('log')\n",
      "    axis.set_ylabel(ylabel)\n",
      "    axis.grid()\n",
      "    axis.legend(loc=1)"
     ],
     "language": "python",
     "metadata": {},
     "outputs": [],
     "prompt_number": 24
    },
    {
     "cell_type": "code",
     "collapsed": false,
     "input": [
      "# Telsa nuclide energy grid batch\n",
      "tesla_NEG = ParsedBatch('tesla_NEG',\n",
      "            cg_entries=[\n",
      "                {'primary': '__cross_section_MOD_calculate_xs'},\n",
      "                {'primary': '__cross_section_MOD_calculate_nuclide_xs'},\n",
      "                {'primary': '__cross_section_MOD_calculate_nuclide_xs',\n",
      "                    'child' : '__search_MOD_binary_search_real'}\n",
      "                ],\n",
      "        output_pattern =\n",
      "        r'Size of micro xs data \\(MB\\):\\s+(?P<xs_size>[0-9\\.E\\-\\+]+)|'+\n",
      "        r'Calculation Rate \\(active\\)\\s+=\\s+(?P<rate_active>[0-9\\.E\\-\\+]+)\\s+neutrons/second')\n",
      "tesla_NEG.clean_func_names('gnu')\n",
      "tesla_NEG.dframe.reset_index(inplace=True)\n",
      "tesla_NEG.dframe['self_per_called'] = tesla_NEG.dframe.self / tesla_NEG.dframe.called"
     ],
     "language": "python",
     "metadata": {},
     "outputs": [
      {
       "output_type": "stream",
       "stream": "stdout",
       "text": [
        " \r",
        "1 profiles parsed..."
       ]
      },
      {
       "output_type": "stream",
       "stream": "stdout",
       "text": [
        "\r",
        "2 profiles parsed..."
       ]
      },
      {
       "output_type": "stream",
       "stream": "stdout",
       "text": [
        "\r",
        "3 profiles parsed..."
       ]
      },
      {
       "output_type": "stream",
       "stream": "stdout",
       "text": [
        "\r",
        "4 profiles parsed..."
       ]
      },
      {
       "output_type": "stream",
       "stream": "stdout",
       "text": [
        "\r",
        "5 profiles parsed..."
       ]
      },
      {
       "output_type": "stream",
       "stream": "stdout",
       "text": [
        "\r",
        "6 profiles parsed..."
       ]
      },
      {
       "output_type": "stream",
       "stream": "stdout",
       "text": [
        "\r",
        "7 profiles parsed..."
       ]
      },
      {
       "output_type": "stream",
       "stream": "stdout",
       "text": [
        "\r",
        "8 profiles parsed..."
       ]
      },
      {
       "output_type": "stream",
       "stream": "stdout",
       "text": [
        "\r",
        "9 profiles parsed..."
       ]
      },
      {
       "output_type": "stream",
       "stream": "stdout",
       "text": [
        "\r",
        "10 profiles parsed..."
       ]
      },
      {
       "output_type": "stream",
       "stream": "stdout",
       "text": [
        "\r",
        "11 profiles parsed..."
       ]
      },
      {
       "output_type": "stream",
       "stream": "stdout",
       "text": [
        "\r",
        "12 profiles parsed..."
       ]
      },
      {
       "output_type": "stream",
       "stream": "stdout",
       "text": [
        "\r",
        "13 profiles parsed..."
       ]
      },
      {
       "output_type": "stream",
       "stream": "stdout",
       "text": [
        "\r",
        "14 profiles parsed..."
       ]
      },
      {
       "output_type": "stream",
       "stream": "stdout",
       "text": [
        "\r",
        "15 profiles parsed..."
       ]
      },
      {
       "output_type": "stream",
       "stream": "stdout",
       "text": [
        "\r",
        "16 profiles parsed..."
       ]
      },
      {
       "output_type": "stream",
       "stream": "stdout",
       "text": [
        "done parsing!\n"
       ]
      }
     ],
     "prompt_number": 5
    },
    {
     "cell_type": "code",
     "collapsed": false,
     "input": [
      "print tesla_NEG.dframe"
     ],
     "language": "python",
     "metadata": {},
     "outputs": [
      {
       "output_type": "stream",
       "stream": "stdout",
       "text": [
        "                   index     called   self rate_active  xs_size  \\\n",
        "0           calculate_xs   11395047   6.54     518.186  158.596   \n",
        "1   calculate_nuclide_xs  460123906  80.10     518.186  158.596   \n",
        "2     binary_search_real  460123906  74.43     518.186  158.596   \n",
        "3           calculate_xs   11394991   6.78     548.450  117.288   \n",
        "4   calculate_nuclide_xs  460165746  76.57     548.450  117.288   \n",
        "5     binary_search_real  460165746  68.18     548.450  117.288   \n",
        "6           calculate_xs   11385473   6.44     576.705  87.1725   \n",
        "7   calculate_nuclide_xs  459750026  75.75     576.705  87.1725   \n",
        "8     binary_search_real  459750026  61.20     576.705  87.1725   \n",
        "9           calculate_xs   11376245   6.28     607.190  64.8594   \n",
        "10  calculate_nuclide_xs  460101186  72.41     607.190  64.8594   \n",
        "11    binary_search_real  460101186  57.04     607.190  64.8594   \n",
        "12          calculate_xs   11341658   6.10     631.018  48.4289   \n",
        "13  calculate_nuclide_xs  458979385  70.32     631.018  48.4289   \n",
        "14    binary_search_real  458979385  51.68     631.018  48.4289   \n",
        "15          calculate_xs   11258647   6.25     667.949  35.7821   \n",
        "16  calculate_nuclide_xs  455943449  68.04     667.949  35.7821   \n",
        "17    binary_search_real  455943449  47.35     667.949  35.7821   \n",
        "18          calculate_xs   11183786   6.12     697.481  26.4857   \n",
        "19  calculate_nuclide_xs  454673414  65.03     697.481  26.4857   \n",
        "20    binary_search_real  454673410  43.77     697.481  26.4857   \n",
        "21          calculate_xs   10892066   6.20     756.229  19.4635   \n",
        "22  calculate_nuclide_xs  443095796  61.12     756.229  19.4635   \n",
        "23    binary_search_real  443095796  36.71     756.229  19.4635   \n",
        "24          calculate_xs   10836770   5.93     782.491  14.5981   \n",
        "25  calculate_nuclide_xs  441257756  62.30     782.491  14.5981   \n",
        "26    binary_search_real  441257756  33.33     782.491  14.5981   \n",
        "27          calculate_xs   10899759   6.03     785.398  10.7056   \n",
        "28  calculate_nuclide_xs  457509816  63.24     785.398  10.7056   \n",
        "29    binary_search_real  457509816  31.59     785.398  10.7056   \n",
        "30          calculate_xs   10827300   6.12     815.341  7.99576   \n",
        "31  calculate_nuclide_xs  455000461  60.18     815.341  7.99576   \n",
        "32    binary_search_real  455000461  29.23     815.341  7.99576   \n",
        "33          calculate_xs    9943531   5.69     882.597  5.89815   \n",
        "34  calculate_nuclide_xs  433132585  56.78     882.597  5.89815   \n",
        "35    binary_search_real  433132585  24.48     882.597  5.89815   \n",
        "36          calculate_xs    9899757   6.00     946.316  4.38570   \n",
        "37  calculate_nuclide_xs  432319739  53.32     946.316  4.38570   \n",
        "38    binary_search_real  432319739  20.71     946.316  4.38570   \n",
        "39          calculate_xs    9862180   5.35     975.172  3.22504   \n",
        "40  calculate_nuclide_xs  430650714  52.74     975.172  3.22504   \n",
        "41    binary_search_real  430650714  18.71     975.172  3.22504   \n",
        "42          calculate_xs    9387277   4.96     1080.32  2.41154   \n",
        "43  calculate_nuclide_xs  406338467  47.94     1080.32  2.41154   \n",
        "44    binary_search_real  406338467  15.19     1080.32  2.41154   \n",
        "45          calculate_xs   10869947   5.98     467.458  215.777   \n",
        "46  calculate_nuclide_xs  465054456  84.56     467.458  215.777   \n",
        "47    binary_search_real  465054456  91.51     467.458  215.777   \n",
        "\n",
        "    self_per_called  \n",
        "0      5.739336e-07  \n",
        "1      1.740835e-07  \n",
        "2      1.617608e-07  \n",
        "3      5.949983e-07  \n",
        "4      1.663966e-07  \n",
        "5      1.481640e-07  \n",
        "6      5.656331e-07  \n",
        "7      1.647634e-07  \n",
        "8      1.331158e-07  \n",
        "9      5.520275e-07  \n",
        "10     1.573784e-07  \n",
        "11     1.239727e-07  \n",
        "12     5.378402e-07  \n",
        "13     1.532095e-07  \n",
        "14     1.125976e-07  \n",
        "15     5.551289e-07  \n",
        "16     1.492290e-07  \n",
        "17     1.038506e-07  \n",
        "18     5.472208e-07  \n",
        "19     1.430257e-07  \n",
        "20     9.626690e-08  \n",
        "21     5.692217e-07  \n",
        "22     1.379386e-07  \n",
        "23     8.284890e-08  \n",
        "24     5.472110e-07  \n",
        "25     1.411873e-07  \n",
        "26     7.553408e-08  \n",
        "27     5.532232e-07  \n",
        "28     1.382265e-07  \n",
        "29     6.904770e-08  \n",
        "30     5.652379e-07  \n",
        "31     1.322636e-07  \n",
        "32     6.424169e-08  \n",
        "33     5.722313e-07  \n",
        "34     1.310915e-07  \n",
        "35     5.651849e-08  \n",
        "36     6.060755e-07  \n",
        "37     1.233346e-07  \n",
        "38     4.790436e-08  \n",
        "39     5.424764e-07  \n",
        "40     1.224658e-07  \n",
        "41     4.344588e-08  \n",
        "42     5.283747e-07  \n",
        "43     1.179805e-07  \n",
        "44     3.738263e-08  \n",
        "45     5.501407e-07  \n",
        "46     1.818282e-07  \n",
        "47     1.967727e-07  \n"
       ]
      }
     ],
     "prompt_number": 6
    },
    {
     "cell_type": "code",
     "collapsed": false,
     "input": [
      "# Telsa unionized energy grid batch\n",
      "tesla_UEG = ParsedBatch('tesla_UEG',\n",
      "            cg_entries=[\n",
      "                {'primary': '__cross_section_MOD_calculate_xs'},\n",
      "                {'primary': '__cross_section_MOD_calculate_nuclide_xs'},\n",
      "                {'primary': '__cross_section_MOD_calculate_xs',\n",
      "                    'child' : '__search_MOD_binary_search_real'}\n",
      "                ],\n",
      "        output_pattern =\n",
      "        r'Number of nuclides:\\s+(?P<nuclides>[0-9\\.E\\-\\+]+)|'+\n",
      "        r'Calculation Rate \\(active\\)\\s+=\\s+(?P<rate_active>[0-9\\.E\\-\\+]+)\\s+neutrons/second')\n",
      "tesla_UEG.clean_func_names('gnu')\n",
      "tesla_UEG.dframe.reset_index(inplace=True)\n",
      "tesla_UEG.dframe['self_per_called'] = tesla_UEG.dframe.self / tesla_UEG.dframe.called"
     ],
     "language": "python",
     "metadata": {},
     "outputs": [
      {
       "output_type": "stream",
       "stream": "stdout",
       "text": [
        " \r",
        "1 profiles parsed..."
       ]
      },
      {
       "output_type": "stream",
       "stream": "stdout",
       "text": [
        "\r",
        "2 profiles parsed..."
       ]
      },
      {
       "output_type": "stream",
       "stream": "stdout",
       "text": [
        "\r",
        "3 profiles parsed..."
       ]
      },
      {
       "output_type": "stream",
       "stream": "stdout",
       "text": [
        "\r",
        "4 profiles parsed..."
       ]
      },
      {
       "output_type": "stream",
       "stream": "stdout",
       "text": [
        "\r",
        "5 profiles parsed..."
       ]
      },
      {
       "output_type": "stream",
       "stream": "stdout",
       "text": [
        "\r",
        "6 profiles parsed..."
       ]
      },
      {
       "output_type": "stream",
       "stream": "stdout",
       "text": [
        "\r",
        "7 profiles parsed..."
       ]
      },
      {
       "output_type": "stream",
       "stream": "stdout",
       "text": [
        "\r",
        "8 profiles parsed..."
       ]
      },
      {
       "output_type": "stream",
       "stream": "stdout",
       "text": [
        "\r",
        "9 profiles parsed..."
       ]
      },
      {
       "output_type": "stream",
       "stream": "stdout",
       "text": [
        "\r",
        "10 profiles parsed..."
       ]
      },
      {
       "output_type": "stream",
       "stream": "stdout",
       "text": [
        "\r",
        "11 profiles parsed..."
       ]
      },
      {
       "output_type": "stream",
       "stream": "stdout",
       "text": [
        "\r",
        "12 profiles parsed..."
       ]
      },
      {
       "output_type": "stream",
       "stream": "stdout",
       "text": [
        "\r",
        "13 profiles parsed..."
       ]
      },
      {
       "output_type": "stream",
       "stream": "stdout",
       "text": [
        "\r",
        "14 profiles parsed..."
       ]
      },
      {
       "output_type": "stream",
       "stream": "stdout",
       "text": [
        "\r",
        "15 profiles parsed..."
       ]
      },
      {
       "output_type": "stream",
       "stream": "stdout",
       "text": [
        "\r",
        "16 profiles parsed..."
       ]
      },
      {
       "output_type": "stream",
       "stream": "stdout",
       "text": [
        "\r",
        "17 profiles parsed..."
       ]
      },
      {
       "output_type": "stream",
       "stream": "stdout",
       "text": [
        "\r",
        "18 profiles parsed..."
       ]
      },
      {
       "output_type": "stream",
       "stream": "stdout",
       "text": [
        "\r",
        "19 profiles parsed..."
       ]
      },
      {
       "output_type": "stream",
       "stream": "stdout",
       "text": [
        "\r",
        "20 profiles parsed..."
       ]
      },
      {
       "output_type": "stream",
       "stream": "stdout",
       "text": [
        "\r",
        "21 profiles parsed..."
       ]
      },
      {
       "output_type": "stream",
       "stream": "stdout",
       "text": [
        "\r",
        "22 profiles parsed..."
       ]
      },
      {
       "output_type": "stream",
       "stream": "stdout",
       "text": [
        "\r",
        "23 profiles parsed..."
       ]
      },
      {
       "output_type": "stream",
       "stream": "stdout",
       "text": [
        "\r",
        "24 profiles parsed..."
       ]
      },
      {
       "output_type": "stream",
       "stream": "stdout",
       "text": [
        "\r",
        "25 profiles parsed..."
       ]
      },
      {
       "output_type": "stream",
       "stream": "stdout",
       "text": [
        "\r",
        "26 profiles parsed..."
       ]
      },
      {
       "output_type": "stream",
       "stream": "stdout",
       "text": [
        "\r",
        "27 profiles parsed..."
       ]
      },
      {
       "output_type": "stream",
       "stream": "stdout",
       "text": [
        "\r",
        "28 profiles parsed..."
       ]
      },
      {
       "output_type": "stream",
       "stream": "stdout",
       "text": [
        "\r",
        "29 profiles parsed..."
       ]
      },
      {
       "output_type": "stream",
       "stream": "stdout",
       "text": [
        "\r",
        "30 profiles parsed..."
       ]
      },
      {
       "output_type": "stream",
       "stream": "stdout",
       "text": [
        "\r",
        "31 profiles parsed..."
       ]
      },
      {
       "output_type": "stream",
       "stream": "stdout",
       "text": [
        "\r",
        "32 profiles parsed..."
       ]
      },
      {
       "output_type": "stream",
       "stream": "stdout",
       "text": [
        "\r",
        "33 profiles parsed..."
       ]
      },
      {
       "output_type": "stream",
       "stream": "stdout",
       "text": [
        "\r",
        "34 profiles parsed..."
       ]
      },
      {
       "output_type": "stream",
       "stream": "stdout",
       "text": [
        "\r",
        "35 profiles parsed..."
       ]
      },
      {
       "output_type": "stream",
       "stream": "stdout",
       "text": [
        "\r",
        "36 profiles parsed..."
       ]
      },
      {
       "output_type": "stream",
       "stream": "stdout",
       "text": [
        "\r",
        "37 profiles parsed..."
       ]
      },
      {
       "output_type": "stream",
       "stream": "stdout",
       "text": [
        "\r",
        "38 profiles parsed..."
       ]
      },
      {
       "output_type": "stream",
       "stream": "stdout",
       "text": [
        "\r",
        "39 profiles parsed..."
       ]
      },
      {
       "output_type": "stream",
       "stream": "stdout",
       "text": [
        "\r",
        "40 profiles parsed..."
       ]
      },
      {
       "output_type": "stream",
       "stream": "stdout",
       "text": [
        "\r",
        "41 profiles parsed..."
       ]
      },
      {
       "output_type": "stream",
       "stream": "stdout",
       "text": [
        "\r",
        "42 profiles parsed..."
       ]
      },
      {
       "output_type": "stream",
       "stream": "stdout",
       "text": [
        "\r",
        "43 profiles parsed..."
       ]
      },
      {
       "output_type": "stream",
       "stream": "stdout",
       "text": [
        "\r",
        "44 profiles parsed..."
       ]
      },
      {
       "output_type": "stream",
       "stream": "stdout",
       "text": [
        "\r",
        "45 profiles parsed..."
       ]
      },
      {
       "output_type": "stream",
       "stream": "stdout",
       "text": [
        "\r",
        "46 profiles parsed..."
       ]
      },
      {
       "output_type": "stream",
       "stream": "stdout",
       "text": [
        "\r",
        "47 profiles parsed..."
       ]
      },
      {
       "output_type": "stream",
       "stream": "stdout",
       "text": [
        "\r",
        "48 profiles parsed..."
       ]
      },
      {
       "output_type": "stream",
       "stream": "stdout",
       "text": [
        "\r",
        "49 profiles parsed..."
       ]
      },
      {
       "output_type": "stream",
       "stream": "stdout",
       "text": [
        "\r",
        "50 profiles parsed..."
       ]
      },
      {
       "output_type": "stream",
       "stream": "stdout",
       "text": [
        "\r",
        "51 profiles parsed..."
       ]
      },
      {
       "output_type": "stream",
       "stream": "stdout",
       "text": [
        "\r",
        "52 profiles parsed..."
       ]
      },
      {
       "output_type": "stream",
       "stream": "stdout",
       "text": [
        "\r",
        "53 profiles parsed..."
       ]
      },
      {
       "output_type": "stream",
       "stream": "stdout",
       "text": [
        "\r",
        "54 profiles parsed..."
       ]
      },
      {
       "output_type": "stream",
       "stream": "stdout",
       "text": [
        "\r",
        "55 profiles parsed..."
       ]
      },
      {
       "output_type": "stream",
       "stream": "stdout",
       "text": [
        "\r",
        "56 profiles parsed..."
       ]
      },
      {
       "output_type": "stream",
       "stream": "stdout",
       "text": [
        "\r",
        "57 profiles parsed..."
       ]
      },
      {
       "output_type": "stream",
       "stream": "stdout",
       "text": [
        "\r",
        "58 profiles parsed..."
       ]
      },
      {
       "output_type": "stream",
       "stream": "stdout",
       "text": [
        "\r",
        "59 profiles parsed..."
       ]
      },
      {
       "output_type": "stream",
       "stream": "stdout",
       "text": [
        "\r",
        "60 profiles parsed..."
       ]
      },
      {
       "output_type": "stream",
       "stream": "stdout",
       "text": [
        "\r",
        "61 profiles parsed..."
       ]
      },
      {
       "output_type": "stream",
       "stream": "stdout",
       "text": [
        "\r",
        "62 profiles parsed..."
       ]
      },
      {
       "output_type": "stream",
       "stream": "stdout",
       "text": [
        "\r",
        "63 profiles parsed..."
       ]
      },
      {
       "output_type": "stream",
       "stream": "stdout",
       "text": [
        "\r",
        "64 profiles parsed..."
       ]
      },
      {
       "output_type": "stream",
       "stream": "stdout",
       "text": [
        "done parsing!\n"
       ]
      }
     ],
     "prompt_number": 5
    },
    {
     "cell_type": "code",
     "collapsed": false,
     "input": [
      "# Vesta nuclide energy grid batch\n",
      "vesta_NEG = ParsedBatch('vesta_NEG',\n",
      "            cg_entries=[\n",
      "                {'primary': '.__cross_section_NMOD_calculate_xs'},\n",
      "                {'primary': '.__cross_section_NMOD_calculate_nuclide_xs'},\n",
      "                {'primary': '.__cross_section_NMOD_calculate_nuclide_xs',\n",
      "                    'child' : '.__search_NMOD_binary_search_real'}\n",
      "                ],\n",
      "        output_pattern =\n",
      "        r'Number of nuclides:\\s+(?P<nuclides>[0-9\\.E\\-\\+]+)|'+\n",
      "        r'Calculation Rate \\(active\\)\\s+=\\s+(?P<rate_active>[0-9\\.E\\-\\+]+)\\s+neutrons/second')\n",
      "vesta_NEG.clean_func_names('ibm')\n",
      "vesta_NEG.dframe.reset_index(inplace=True)\n",
      "vesta_NEG.dframe['self_per_called'] = vesta_NEG.dframe.self / vesta_NEG.dframe.called"
     ],
     "language": "python",
     "metadata": {},
     "outputs": [
      {
       "output_type": "stream",
       "stream": "stdout",
       "text": [
        " \r",
        "1 profiles parsed..."
       ]
      },
      {
       "output_type": "stream",
       "stream": "stdout",
       "text": [
        "\r",
        "2 profiles parsed..."
       ]
      },
      {
       "output_type": "stream",
       "stream": "stdout",
       "text": [
        "\r",
        "3 profiles parsed..."
       ]
      },
      {
       "output_type": "stream",
       "stream": "stdout",
       "text": [
        "\r",
        "4 profiles parsed..."
       ]
      },
      {
       "output_type": "stream",
       "stream": "stdout",
       "text": [
        "\r",
        "5 profiles parsed..."
       ]
      },
      {
       "output_type": "stream",
       "stream": "stdout",
       "text": [
        "\r",
        "6 profiles parsed..."
       ]
      },
      {
       "output_type": "stream",
       "stream": "stdout",
       "text": [
        "\r",
        "7 profiles parsed..."
       ]
      },
      {
       "output_type": "stream",
       "stream": "stdout",
       "text": [
        "\r",
        "8 profiles parsed..."
       ]
      },
      {
       "output_type": "stream",
       "stream": "stdout",
       "text": [
        "\r",
        "9 profiles parsed..."
       ]
      },
      {
       "output_type": "stream",
       "stream": "stdout",
       "text": [
        "\r",
        "10 profiles parsed..."
       ]
      },
      {
       "output_type": "stream",
       "stream": "stdout",
       "text": [
        "\r",
        "11 profiles parsed..."
       ]
      },
      {
       "output_type": "stream",
       "stream": "stdout",
       "text": [
        "\r",
        "12 profiles parsed..."
       ]
      },
      {
       "output_type": "stream",
       "stream": "stdout",
       "text": [
        "\r",
        "13 profiles parsed..."
       ]
      },
      {
       "output_type": "stream",
       "stream": "stdout",
       "text": [
        "\r",
        "14 profiles parsed..."
       ]
      },
      {
       "output_type": "stream",
       "stream": "stdout",
       "text": [
        "\r",
        "15 profiles parsed..."
       ]
      },
      {
       "output_type": "stream",
       "stream": "stdout",
       "text": [
        "\r",
        "16 profiles parsed..."
       ]
      },
      {
       "output_type": "stream",
       "stream": "stdout",
       "text": [
        "\r",
        "17 profiles parsed..."
       ]
      },
      {
       "output_type": "stream",
       "stream": "stdout",
       "text": [
        "\r",
        "18 profiles parsed..."
       ]
      },
      {
       "output_type": "stream",
       "stream": "stdout",
       "text": [
        "\r",
        "19 profiles parsed..."
       ]
      },
      {
       "output_type": "stream",
       "stream": "stdout",
       "text": [
        "\r",
        "20 profiles parsed..."
       ]
      },
      {
       "output_type": "stream",
       "stream": "stdout",
       "text": [
        "\r",
        "21 profiles parsed..."
       ]
      },
      {
       "output_type": "stream",
       "stream": "stdout",
       "text": [
        "\r",
        "22 profiles parsed..."
       ]
      },
      {
       "output_type": "stream",
       "stream": "stdout",
       "text": [
        "\r",
        "23 profiles parsed..."
       ]
      },
      {
       "output_type": "stream",
       "stream": "stdout",
       "text": [
        "\r",
        "24 profiles parsed..."
       ]
      },
      {
       "output_type": "stream",
       "stream": "stdout",
       "text": [
        "\r",
        "25 profiles parsed..."
       ]
      },
      {
       "output_type": "stream",
       "stream": "stdout",
       "text": [
        "\r",
        "26 profiles parsed..."
       ]
      },
      {
       "output_type": "stream",
       "stream": "stdout",
       "text": [
        "\r",
        "27 profiles parsed..."
       ]
      },
      {
       "output_type": "stream",
       "stream": "stdout",
       "text": [
        "\r",
        "28 profiles parsed..."
       ]
      },
      {
       "output_type": "stream",
       "stream": "stdout",
       "text": [
        "\r",
        "29 profiles parsed..."
       ]
      },
      {
       "output_type": "stream",
       "stream": "stdout",
       "text": [
        "\r",
        "30 profiles parsed..."
       ]
      },
      {
       "output_type": "stream",
       "stream": "stdout",
       "text": [
        "\r",
        "31 profiles parsed..."
       ]
      },
      {
       "output_type": "stream",
       "stream": "stdout",
       "text": [
        "\r",
        "32 profiles parsed..."
       ]
      },
      {
       "output_type": "stream",
       "stream": "stdout",
       "text": [
        "\r",
        "33 profiles parsed..."
       ]
      },
      {
       "output_type": "stream",
       "stream": "stdout",
       "text": [
        "\r",
        "34 profiles parsed..."
       ]
      },
      {
       "output_type": "stream",
       "stream": "stdout",
       "text": [
        "\r",
        "35 profiles parsed..."
       ]
      },
      {
       "output_type": "stream",
       "stream": "stdout",
       "text": [
        "\r",
        "36 profiles parsed..."
       ]
      },
      {
       "output_type": "stream",
       "stream": "stdout",
       "text": [
        "\r",
        "37 profiles parsed..."
       ]
      },
      {
       "output_type": "stream",
       "stream": "stdout",
       "text": [
        "\r",
        "38 profiles parsed..."
       ]
      },
      {
       "output_type": "stream",
       "stream": "stdout",
       "text": [
        "\r",
        "39 profiles parsed..."
       ]
      },
      {
       "output_type": "stream",
       "stream": "stdout",
       "text": [
        "\r",
        "40 profiles parsed..."
       ]
      },
      {
       "output_type": "stream",
       "stream": "stdout",
       "text": [
        "\r",
        "41 profiles parsed..."
       ]
      },
      {
       "output_type": "stream",
       "stream": "stdout",
       "text": [
        "\r",
        "42 profiles parsed..."
       ]
      },
      {
       "output_type": "stream",
       "stream": "stdout",
       "text": [
        "\r",
        "43 profiles parsed..."
       ]
      },
      {
       "output_type": "stream",
       "stream": "stdout",
       "text": [
        "\r",
        "44 profiles parsed..."
       ]
      },
      {
       "output_type": "stream",
       "stream": "stdout",
       "text": [
        "\r",
        "45 profiles parsed..."
       ]
      },
      {
       "output_type": "stream",
       "stream": "stdout",
       "text": [
        "\r",
        "46 profiles parsed..."
       ]
      },
      {
       "output_type": "stream",
       "stream": "stdout",
       "text": [
        "\r",
        "47 profiles parsed..."
       ]
      },
      {
       "output_type": "stream",
       "stream": "stdout",
       "text": [
        "\r",
        "48 profiles parsed..."
       ]
      },
      {
       "output_type": "stream",
       "stream": "stdout",
       "text": [
        "\r",
        "49 profiles parsed..."
       ]
      },
      {
       "output_type": "stream",
       "stream": "stdout",
       "text": [
        "\r",
        "50 profiles parsed..."
       ]
      },
      {
       "output_type": "stream",
       "stream": "stdout",
       "text": [
        "\r",
        "51 profiles parsed..."
       ]
      },
      {
       "output_type": "stream",
       "stream": "stdout",
       "text": [
        "\r",
        "52 profiles parsed..."
       ]
      },
      {
       "output_type": "stream",
       "stream": "stdout",
       "text": [
        "\r",
        "53 profiles parsed..."
       ]
      },
      {
       "output_type": "stream",
       "stream": "stdout",
       "text": [
        "\r",
        "54 profiles parsed..."
       ]
      },
      {
       "output_type": "stream",
       "stream": "stdout",
       "text": [
        "\r",
        "55 profiles parsed..."
       ]
      },
      {
       "output_type": "stream",
       "stream": "stdout",
       "text": [
        "\r",
        "56 profiles parsed..."
       ]
      },
      {
       "output_type": "stream",
       "stream": "stdout",
       "text": [
        "\r",
        "57 profiles parsed..."
       ]
      },
      {
       "output_type": "stream",
       "stream": "stdout",
       "text": [
        "\r",
        "58 profiles parsed..."
       ]
      },
      {
       "output_type": "stream",
       "stream": "stdout",
       "text": [
        "\r",
        "59 profiles parsed..."
       ]
      },
      {
       "output_type": "stream",
       "stream": "stdout",
       "text": [
        "\r",
        "60 profiles parsed..."
       ]
      },
      {
       "output_type": "stream",
       "stream": "stdout",
       "text": [
        "\r",
        "61 profiles parsed..."
       ]
      },
      {
       "output_type": "stream",
       "stream": "stdout",
       "text": [
        "\r",
        "62 profiles parsed..."
       ]
      },
      {
       "output_type": "stream",
       "stream": "stdout",
       "text": [
        "\r",
        "63 profiles parsed..."
       ]
      },
      {
       "output_type": "stream",
       "stream": "stdout",
       "text": [
        "\r",
        "64 profiles parsed..."
       ]
      },
      {
       "output_type": "stream",
       "stream": "stdout",
       "text": [
        "done parsing!\n"
       ]
      }
     ],
     "prompt_number": 6
    },
    {
     "cell_type": "code",
     "collapsed": false,
     "input": [
      "# Vesta unionized energy grid batch\n",
      "vesta_UEG = ParsedBatch('vesta_UEG',\n",
      "            cg_entries=[\n",
      "                {'primary': '.__cross_section_NMOD_calculate_xs'},\n",
      "                {'primary': '.__cross_section_NMOD_calculate_nuclide_xs'},\n",
      "                {'primary': '.__cross_section_NMOD_calculate_xs',\n",
      "                    'child' : '.__search_NMOD_binary_search_real'}\n",
      "                ],\n",
      "        output_pattern =\n",
      "        r'Number of nuclides:\\s+(?P<nuclides>[0-9\\.E\\-\\+]+)|'+\n",
      "        r'Calculation Rate \\(active\\)\\s+=\\s+(?P<rate_active>[0-9\\.E\\-\\+]+)\\s+neutrons/second')\n",
      "vesta_UEG.clean_func_names('ibm')\n",
      "vesta_UEG.dframe.reset_index(inplace=True)\n",
      "vesta_UEG.dframe['self_per_called'] = vesta_UEG.dframe.self / vesta_UEG.dframe.called"
     ],
     "language": "python",
     "metadata": {},
     "outputs": [
      {
       "output_type": "stream",
       "stream": "stdout",
       "text": [
        " \r",
        "1 profiles parsed..."
       ]
      },
      {
       "output_type": "stream",
       "stream": "stdout",
       "text": [
        "\r",
        "2 profiles parsed..."
       ]
      },
      {
       "output_type": "stream",
       "stream": "stdout",
       "text": [
        "\r",
        "3 profiles parsed..."
       ]
      },
      {
       "output_type": "stream",
       "stream": "stdout",
       "text": [
        "\r",
        "4 profiles parsed..."
       ]
      },
      {
       "output_type": "stream",
       "stream": "stdout",
       "text": [
        "\r",
        "5 profiles parsed..."
       ]
      },
      {
       "output_type": "stream",
       "stream": "stdout",
       "text": [
        "\r",
        "6 profiles parsed..."
       ]
      },
      {
       "output_type": "stream",
       "stream": "stdout",
       "text": [
        "\r",
        "7 profiles parsed..."
       ]
      },
      {
       "output_type": "stream",
       "stream": "stdout",
       "text": [
        "\r",
        "8 profiles parsed..."
       ]
      },
      {
       "output_type": "stream",
       "stream": "stdout",
       "text": [
        "\r",
        "9 profiles parsed..."
       ]
      },
      {
       "output_type": "stream",
       "stream": "stdout",
       "text": [
        "\r",
        "10 profiles parsed..."
       ]
      },
      {
       "output_type": "stream",
       "stream": "stdout",
       "text": [
        "\r",
        "11 profiles parsed..."
       ]
      },
      {
       "output_type": "stream",
       "stream": "stdout",
       "text": [
        "\r",
        "12 profiles parsed..."
       ]
      },
      {
       "output_type": "stream",
       "stream": "stdout",
       "text": [
        "\r",
        "13 profiles parsed..."
       ]
      },
      {
       "output_type": "stream",
       "stream": "stdout",
       "text": [
        "\r",
        "14 profiles parsed..."
       ]
      },
      {
       "output_type": "stream",
       "stream": "stdout",
       "text": [
        "\r",
        "15 profiles parsed..."
       ]
      },
      {
       "output_type": "stream",
       "stream": "stdout",
       "text": [
        "\r",
        "16 profiles parsed..."
       ]
      },
      {
       "output_type": "stream",
       "stream": "stdout",
       "text": [
        "\r",
        "17 profiles parsed..."
       ]
      },
      {
       "output_type": "stream",
       "stream": "stdout",
       "text": [
        "\r",
        "18 profiles parsed..."
       ]
      },
      {
       "output_type": "stream",
       "stream": "stdout",
       "text": [
        "\r",
        "19 profiles parsed..."
       ]
      },
      {
       "output_type": "stream",
       "stream": "stdout",
       "text": [
        "\r",
        "20 profiles parsed..."
       ]
      },
      {
       "output_type": "stream",
       "stream": "stdout",
       "text": [
        "\r",
        "21 profiles parsed..."
       ]
      },
      {
       "output_type": "stream",
       "stream": "stdout",
       "text": [
        "\r",
        "22 profiles parsed..."
       ]
      },
      {
       "output_type": "stream",
       "stream": "stdout",
       "text": [
        "\r",
        "23 profiles parsed..."
       ]
      },
      {
       "output_type": "stream",
       "stream": "stdout",
       "text": [
        "\r",
        "24 profiles parsed..."
       ]
      },
      {
       "output_type": "stream",
       "stream": "stdout",
       "text": [
        "\r",
        "25 profiles parsed..."
       ]
      },
      {
       "output_type": "stream",
       "stream": "stdout",
       "text": [
        "\r",
        "26 profiles parsed..."
       ]
      },
      {
       "output_type": "stream",
       "stream": "stdout",
       "text": [
        "\r",
        "27 profiles parsed..."
       ]
      },
      {
       "output_type": "stream",
       "stream": "stdout",
       "text": [
        "\r",
        "28 profiles parsed..."
       ]
      },
      {
       "output_type": "stream",
       "stream": "stdout",
       "text": [
        "\r",
        "29 profiles parsed..."
       ]
      },
      {
       "output_type": "stream",
       "stream": "stdout",
       "text": [
        "\r",
        "30 profiles parsed..."
       ]
      },
      {
       "output_type": "stream",
       "stream": "stdout",
       "text": [
        "\r",
        "31 profiles parsed..."
       ]
      },
      {
       "output_type": "stream",
       "stream": "stdout",
       "text": [
        "\r",
        "32 profiles parsed..."
       ]
      },
      {
       "output_type": "stream",
       "stream": "stdout",
       "text": [
        "\r",
        "33 profiles parsed..."
       ]
      },
      {
       "output_type": "stream",
       "stream": "stdout",
       "text": [
        "\r",
        "34 profiles parsed..."
       ]
      },
      {
       "output_type": "stream",
       "stream": "stdout",
       "text": [
        "\r",
        "35 profiles parsed..."
       ]
      },
      {
       "output_type": "stream",
       "stream": "stdout",
       "text": [
        "\r",
        "36 profiles parsed..."
       ]
      },
      {
       "output_type": "stream",
       "stream": "stdout",
       "text": [
        "\r",
        "37 profiles parsed..."
       ]
      },
      {
       "output_type": "stream",
       "stream": "stdout",
       "text": [
        "\r",
        "38 profiles parsed..."
       ]
      },
      {
       "output_type": "stream",
       "stream": "stdout",
       "text": [
        "\r",
        "39 profiles parsed..."
       ]
      },
      {
       "output_type": "stream",
       "stream": "stdout",
       "text": [
        "\r",
        "40 profiles parsed..."
       ]
      },
      {
       "output_type": "stream",
       "stream": "stdout",
       "text": [
        "\r",
        "41 profiles parsed..."
       ]
      },
      {
       "output_type": "stream",
       "stream": "stdout",
       "text": [
        "\r",
        "42 profiles parsed..."
       ]
      },
      {
       "output_type": "stream",
       "stream": "stdout",
       "text": [
        "\r",
        "43 profiles parsed..."
       ]
      },
      {
       "output_type": "stream",
       "stream": "stdout",
       "text": [
        "\r",
        "44 profiles parsed..."
       ]
      },
      {
       "output_type": "stream",
       "stream": "stdout",
       "text": [
        "\r",
        "45 profiles parsed..."
       ]
      },
      {
       "output_type": "stream",
       "stream": "stdout",
       "text": [
        "\r",
        "46 profiles parsed..."
       ]
      },
      {
       "output_type": "stream",
       "stream": "stdout",
       "text": [
        "\r",
        "47 profiles parsed..."
       ]
      },
      {
       "output_type": "stream",
       "stream": "stdout",
       "text": [
        "\r",
        "48 profiles parsed..."
       ]
      },
      {
       "output_type": "stream",
       "stream": "stdout",
       "text": [
        "\r",
        "49 profiles parsed..."
       ]
      },
      {
       "output_type": "stream",
       "stream": "stdout",
       "text": [
        "\r",
        "50 profiles parsed..."
       ]
      },
      {
       "output_type": "stream",
       "stream": "stdout",
       "text": [
        "\r",
        "51 profiles parsed..."
       ]
      },
      {
       "output_type": "stream",
       "stream": "stdout",
       "text": [
        "\r",
        "52 profiles parsed..."
       ]
      },
      {
       "output_type": "stream",
       "stream": "stdout",
       "text": [
        "\r",
        "53 profiles parsed..."
       ]
      },
      {
       "output_type": "stream",
       "stream": "stdout",
       "text": [
        "\r",
        "54 profiles parsed..."
       ]
      },
      {
       "output_type": "stream",
       "stream": "stdout",
       "text": [
        "\r",
        "55 profiles parsed..."
       ]
      },
      {
       "output_type": "stream",
       "stream": "stdout",
       "text": [
        "\r",
        "56 profiles parsed..."
       ]
      },
      {
       "output_type": "stream",
       "stream": "stdout",
       "text": [
        "\r",
        "57 profiles parsed..."
       ]
      },
      {
       "output_type": "stream",
       "stream": "stdout",
       "text": [
        "\r",
        "58 profiles parsed..."
       ]
      },
      {
       "output_type": "stream",
       "stream": "stdout",
       "text": [
        "\r",
        "59 profiles parsed..."
       ]
      },
      {
       "output_type": "stream",
       "stream": "stdout",
       "text": [
        "\r",
        "60 profiles parsed..."
       ]
      },
      {
       "output_type": "stream",
       "stream": "stdout",
       "text": [
        "\r",
        "61 profiles parsed..."
       ]
      },
      {
       "output_type": "stream",
       "stream": "stdout",
       "text": [
        "\r",
        "62 profiles parsed..."
       ]
      },
      {
       "output_type": "stream",
       "stream": "stdout",
       "text": [
        "\r",
        "63 profiles parsed..."
       ]
      },
      {
       "output_type": "stream",
       "stream": "stdout",
       "text": [
        "\r",
        "64 profiles parsed..."
       ]
      },
      {
       "output_type": "stream",
       "stream": "stdout",
       "text": [
        "done parsing!\n"
       ]
      }
     ],
     "prompt_number": 7
    },
    {
     "cell_type": "code",
     "collapsed": false,
     "input": [
      "# Plot call counts (NEG test)\n",
      "fig, axes = plt.subplots(nrows=1, ncols=1)\n",
      "batch = tesla_NEG; title = 'NEG'; ax = axes\n",
      "batch_means = batch.dframe.convert_objects(\n",
      "        convert_numeric=True).groupby(['index', 'xs_size']).mean()\n",
      "batch_stds = batch.dframe.convert_objects(\n",
      "        convert_numeric=True).groupby(['index', 'xs_size']).std()\n",
      "plot_batch(frame=batch_means, axis=ax, title=title,\n",
      "        column='called', xlabel='xs size (MB)', ylabel='call count')\n",
      "plt.show()"
     ],
     "language": "python",
     "metadata": {},
     "outputs": [],
     "prompt_number": 19
    },
    {
     "cell_type": "code",
     "collapsed": false,
     "input": [
      "# Plot call counts\n",
      "fig, axes = plt.subplots(nrows=1, ncols=2)\n",
      "for (batch, title, ax) in zip(\n",
      "        [vesta_NEG, vesta_UEG],\n",
      "        ['NEG', 'UEG'],\n",
      "        axes):\n",
      "    batch_means = batch.dframe.convert_objects(\n",
      "            convert_numeric=True).groupby(['index', 'nuclides']).mean()\n",
      "    batch_stds = batch.dframe.convert_objects(\n",
      "            convert_numeric=True).groupby(['index', 'nuclides']).std()\n",
      "    plot_batch(frame=batch_means, axis=ax, title=title,\n",
      "            column='called', xlabel='number of nuclides', ylabel='call count')\n",
      "plt.show()"
     ],
     "language": "python",
     "metadata": {},
     "outputs": [],
     "prompt_number": 8
    },
    {
     "cell_type": "code",
     "collapsed": false,
     "input": [
      "# Plot self times (NEG test)\n",
      "fig, axes = plt.subplots(nrows=1, ncols=1)\n",
      "batch = tesla_NEG; title = 'NEG'; ax = axes\n",
      "batch_means = batch.dframe.convert_objects(\n",
      "        convert_numeric=True).groupby(['index', 'xs_size']).mean()\n",
      "batch_stds = batch.dframe.convert_objects(\n",
      "        convert_numeric=True).groupby(['index', 'xs_size']).std()\n",
      "errobar_batch(mean_fr=batch_means, std_fr=batch_stds, axis=ax, title=title,\n",
      "        column='self', xlabel='xs size (MB)', ylabel='self time')\n",
      "plt.show()"
     ],
     "language": "python",
     "metadata": {},
     "outputs": [],
     "prompt_number": 25
    },
    {
     "cell_type": "code",
     "collapsed": false,
     "input": [
      "# Plot self times\n",
      "fig, axes = plt.subplots(nrows=2, ncols=2)\n",
      "for (batch, title, ax) in zip(\n",
      "        [tesla_NEG, tesla_UEG, vesta_NEG, vesta_UEG],\n",
      "        ['NEG, Intel Xeon E5-2650', 'UEG, Intel Xeon E5-2650', 'NEG, IBM BG/Q', 'UEG, IBM BG/Q'],\n",
      "        [axes[0,0], axes[0,1], axes[1,0], axes[1,1]]):\n",
      "    batch_means = batch.dframe.convert_objects(\n",
      "            convert_numeric=True).groupby(['index', 'nuclides']).mean()\n",
      "    batch_stds = batch.dframe.convert_objects(\n",
      "            convert_numeric=True).groupby(['index', 'nuclides']).std()\n",
      "    errobar_batch(mean_fr=batch_means, std_fr=batch_stds, axis=ax, title=title,\n",
      "            column='self', xlabel='number of nuclides', ylabel='self time')\n",
      "plt.show()"
     ],
     "language": "python",
     "metadata": {},
     "outputs": [],
     "prompt_number": 9
    },
    {
     "cell_type": "code",
     "collapsed": false,
     "input": [
      "# Plot self times (NEG test)\n",
      "fig, axes = plt.subplots(nrows=1, ncols=1)\n",
      "batch = tesla_NEG; title = 'NEG'; ax = axes\n",
      "batch_means = batch.dframe.convert_objects(\n",
      "        convert_numeric=True).groupby(['index', 'xs_size']).mean()\n",
      "batch_stds = batch.dframe.convert_objects(\n",
      "        convert_numeric=True).groupby(['index', 'xs_size']).std()\n",
      "errobar_batch(mean_fr=batch_means, std_fr=batch_stds, axis=ax, title=title,\n",
      "        column='self_per_called', xlabel='xs size (MB)', ylabel='self time')\n",
      "plt.show()"
     ],
     "language": "python",
     "metadata": {},
     "outputs": [],
     "prompt_number": 26
    },
    {
     "cell_type": "code",
     "collapsed": false,
     "input": [
      "# Plot self per call\n",
      "fig, axes = plt.subplots(nrows=2, ncols=2)\n",
      "for (batch, title, ax) in zip(\n",
      "        [tesla_NEG, tesla_UEG, vesta_NEG, vesta_UEG],\n",
      "        ['NEG, Intel Xeon E5-2650', 'UEG, Intel Xeon E5-2650', 'NEG, IBM BG/Q', 'UEG, IBM BG/Q'],\n",
      "        [axes[0,0], axes[0,1], axes[1,0], axes[1,1]]):\n",
      "    batch_means = batch.dframe.convert_objects(\n",
      "            convert_numeric=True).groupby(['index', 'nuclides']).mean()\n",
      "    batch_stds = batch.dframe.convert_objects(\n",
      "            convert_numeric=True).groupby(['index', 'nuclides']).std()\n",
      "    errobar_batch(mean_fr=batch_means, std_fr=batch_stds, axis=ax, title=title,\n",
      "            column='self_per_called', xlabel='number of nuclides', ylabel='self time per call')\n",
      "plt.show()"
     ],
     "language": "python",
     "metadata": {},
     "outputs": [],
     "prompt_number": 10
    }
   ],
   "metadata": {}
  }
 ]
}